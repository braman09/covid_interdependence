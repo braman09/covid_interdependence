{
 "cells": [
  {
   "cell_type": "code",
   "execution_count": null,
   "metadata": {},
   "outputs": [],
   "source": [
    "# read in necessary libraries, and specify the top level directory where\n",
    "# all of the social distancing data lives\n",
    "library(dplyr)\n",
    "library(stringr)\n",
    "library(foreach)\n",
    "library(jsonlite)\n",
    "library(purrr)\n",
    "library(tidyr)\n",
    "library(stringr)\n",
    "library(readr)\n",
    "data_directory_2020 <- '/nfs/sloanlab004/projects/covid_mobility_proj/data/safegraph_data/social-distancing_v2/2020/'\n",
    "processed_data_directory <- '/nfs/sloanlab004/projects/covid_mobility_proj/data/PROCESSED_DATA/'"
   ]
  },
  {
   "cell_type": "code",
   "execution_count": null,
   "metadata": {},
   "outputs": [],
   "source": [
    "# Get the full set of months\n",
    "months <- list.files(data_directory_2020)\n",
    "\n",
    "# TODO: parallelize this so it is faster\n",
    "# Cycle through the months\n",
    "data_wrapped <- foreach(i= months, .combine='rbind') %do% {\n",
    "    # construct the full directory for the month\n",
    "    directory = paste0(c(data_directory_2020, i), sep='', collapse='')\n",
    "    \n",
    "    data_aggregate_month <- foreach(j = list.files(directory), .combine='rbind') %do% {\n",
    "        # Only analyze dates for which we want to do our analysis (just to save some time)\n",
    "        if(as.numeric(i) <= 3 | (as.numeric(i) == 4 & as.numeric(j) <= 19)) {\n",
    "            # construct the full directory for the day, and the corresponding file containing the data\n",
    "            subdirectory = paste0(c(directory, '/', j), sep='', collapse='')\n",
    "            filename = paste0(c(subdirectory, '/', list.files(subdirectory)[1]), \n",
    "                              sep='', collapse='')\n",
    "            # read in the data\n",
    "            data = read_csv(filename,\n",
    "                            col_types = cols(\n",
    "                                origin_census_block_group = col_double(),\n",
    "                                date_range_start = col_datetime(format = \"\"),\n",
    "                                date_range_end = col_datetime(format = \"\"),\n",
    "                                bucketed_distance_traveled = col_character(),\n",
    "                                median_dwell_at_bucketed_distance_traveled = col_character(),\n",
    "                                bucketed_home_dwell_time = col_character(),\n",
    "                                at_home_by_each_hour = col_character(),\n",
    "                                destination_cbgs = col_character(),\n",
    "                                bucketed_away_from_home_time = col_character(),\n",
    "                                bucketed_percentage_time_home = col_character()\n",
    "                           ))\n",
    "            # roll up the metrics to county level (instead of census tract level)\n",
    "            data_aggregate <- data %>% \n",
    "            mutate(county_fips = floor(origin_census_block_group/10000000)) %>% \n",
    "            group_by(county_fips) %>% \n",
    "            summarise(device_count = sum(device_count),\n",
    "                      completely_home_device_count = sum(completely_home_device_count),\n",
    "                      part_time_work_behavior_devices = sum(part_time_work_behavior_devices),\n",
    "                      full_time_work_behavior_devices = sum(full_time_work_behavior_devices)) %>% \n",
    "            # add a column that tells us what day this data comes from\n",
    "            mutate(ds = paste0('2020-', i, '-', j))\n",
    "          }\n",
    "    }       \n",
    "}"
   ]
  },
  {
   "cell_type": "code",
   "execution_count": null,
   "metadata": {},
   "outputs": [],
   "source": [
    "# Write to file\n",
    "write.csv(data_wrapped, file=paste0(c(processed_data_directory,\n",
    "                                         'safegraph_social_distancing_aggregate_county.csv'),\n",
    "                                       sep='',\n",
    "                                       collapse=''),\n",
    "          row.names=FALSE)"
   ]
  }
 ],
 "metadata": {
  "kernelspec": {
   "display_name": "R 3.6.3",
   "language": "R",
   "name": "ir35"
  },
  "language_info": {
   "codemirror_mode": "r",
   "file_extension": ".r",
   "mimetype": "text/x-r-source",
   "name": "R",
   "pygments_lexer": "r",
   "version": "3.6.3"
  }
 },
 "nbformat": 4,
 "nbformat_minor": 2
}
