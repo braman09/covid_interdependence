{
 "cells": [
  {
   "cell_type": "code",
   "execution_count": null,
   "metadata": {},
   "outputs": [],
   "source": [
    "# Read in libraries\n",
    "# Specify directory for geo data\n",
    "# Specify directory for processed data\n",
    "library(dplyr)\n",
    "library(stringr)\n",
    "library(foreach)\n",
    "library(jsonlite)\n",
    "library(purrr)\n",
    "library(tidyr)\n",
    "library(readr)\n",
    "library(stringr)\n",
    "geo_data_directory <- '/nfs/sloanlab004/projects/covid_mobility_proj/data/PROCESSED_DATA/safe_graph_geos/2020/'\n",
    "processed_data_directory <- '/nfs/sloanlab004/projects/covid_mobility_proj/data/PROCESSED_DATA/'"
   ]
  },
  {
   "cell_type": "code",
   "execution_count": null,
   "metadata": {},
   "outputs": [],
   "source": [
    "# Get list of months\n",
    "months <- list.files(geo_data_directory)\n",
    "\n",
    "# Iterate through months\n",
    "data_wrapped <- foreach(i = months, .combine='rbind') %do% {\n",
    "    directory = str_c(geo_data_directory, i)\n",
    "    \n",
    "    # How many days in each month?\n",
    "    n_days = case_when(i == '01' ~ 31,\n",
    "                       i == '02' ~ 29,\n",
    "                       i == '03' ~ 31,\n",
    "                       i == '04' ~ 19)\n",
    "    \n",
    "    # Loop through dates\n",
    "    data_aggregate_month <- foreach(j = seq(1, n_days, 1), .combine='rbind') %do% {\n",
    "        # Generate filename\n",
    "        day_string <- str_pad(as.character(j), 2, '0', side='left')\n",
    "        file = str_c(directory, '/2020', as.character(i), as.character(day_string), '_county_geos.txt')\n",
    "        \n",
    "        # Read in file\n",
    "        data = read_tsv(file)\n",
    "        \n",
    "        # Name the columns\n",
    "        names(data) <- c('origin_county', 'ds', 'device_count', 'non_home_cbg_visits_within_county',\n",
    "                'cbg_visits_outside_county', 'home_cbg_visits', 'outside_device_county_visits')\n",
    "        data.frame(data)\n",
    "    }\n",
    "}"
   ]
  },
  {
   "cell_type": "code",
   "execution_count": null,
   "metadata": {},
   "outputs": [],
   "source": [
    "# Filter out origin_counties that are not in the 50 states\n",
    "data_wrapped %>% \n",
    "  filter(origin_county <= 57000) -> county_mobility_dvs"
   ]
  },
  {
   "cell_type": "code",
   "execution_count": null,
   "metadata": {},
   "outputs": [],
   "source": [
    "# Write to file\n",
    "save(county_mobility_dvs, file=paste0(c(processed_data_directory,\n",
    "                                         'county_mobility_dvs.Rdata'),\n",
    "                                       sep='',\n",
    "                                       collapse=''))"
   ]
  }
 ],
 "metadata": {
  "kernelspec": {
   "display_name": "R 3.6.3",
   "language": "R",
   "name": "ir35"
  },
  "language_info": {
   "codemirror_mode": "r",
   "file_extension": ".r",
   "mimetype": "text/x-r-source",
   "name": "R",
   "pygments_lexer": "r",
   "version": "3.6.3"
  }
 },
 "nbformat": 4,
 "nbformat_minor": 2
}
