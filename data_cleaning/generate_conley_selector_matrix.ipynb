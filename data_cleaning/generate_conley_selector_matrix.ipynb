{
 "cells": [
  {
   "cell_type": "code",
   "execution_count": 5,
   "metadata": {},
   "outputs": [],
   "source": [
    "library(dplyr)\n",
    "library(stringr)\n",
    "library(readr)\n",
    "library(tidyr)\n",
    "library(lfe)\n",
    "library(scales)\n",
    "library(repr)\n",
    "library(stargazer)\n",
    "load('/nfs/sloanlab004/projects/covid_mobility_proj/data/PROCESSED_DATA/data_v2.RData')\n",
    "load('/nfs/sloanlab004/projects/covid_mobility_proj/data/PROCESSED_DATA/social_adj_matrix.RData')\n",
    "load('/nfs/sloanlab004/projects/covid_mobility_proj/data/PROCESSED_DATA/geo_adjacency_matrix.Rdata')\n",
    "source('~/covid_mobility/paper_code/utils/geo_utils.r')\n",
    "processed_data_directory <- '/nfs/sloanlab004/projects/covid_mobility_proj/data/PROCESSED_DATA/'"
   ]
  },
  {
   "cell_type": "code",
   "execution_count": 6,
   "metadata": {},
   "outputs": [],
   "source": [
    "# Filter down to county fips we see\n",
    "fips_in_panel <- as.character(unique(panel$county_fips))\n",
    "indices <- which(colnames(social_adj_matrix) %in% fips_in_panel)\n",
    "social_adj_matrix_for_conley <- social_adj_matrix[indices, indices]\n",
    "geo_adj_matrix_for_conley <- t(geo_adj_matrix_bayes)[indices, indices]\n",
    "conley.selector.matrix <- pmax(social_adj_matrix_for_conley, geo_adj_matrix_for_conley)\n",
    "rownames(conley.selector.matrix) <- colnames(conley.selector.matrix)\n",
    "\n",
    "conley.selector.matrix[outer(state_code_from_fips(colnames(conley.selector.matrix)),\n",
    "                             state_code_from_fips(colnames(conley.selector.matrix)), \"==\")] <- 1"
   ]
  },
  {
   "cell_type": "code",
   "execution_count": 7,
   "metadata": {},
   "outputs": [],
   "source": [
    "save(conley.selector.matrix, file=paste0(c(processed_data_directory,\n",
    "                                           'conley_selector_matrix.Rdata'),\n",
    "                                         sep='',\n",
    "                                         collapse=''))"
   ]
  }
 ],
 "metadata": {
  "kernelspec": {
   "display_name": "R 3.6.3",
   "language": "R",
   "name": "ir35"
  },
  "language_info": {
   "codemirror_mode": "r",
   "file_extension": ".r",
   "mimetype": "text/x-r-source",
   "name": "R",
   "pygments_lexer": "r",
   "version": "3.6.3"
  }
 },
 "nbformat": 4,
 "nbformat_minor": 2
}
