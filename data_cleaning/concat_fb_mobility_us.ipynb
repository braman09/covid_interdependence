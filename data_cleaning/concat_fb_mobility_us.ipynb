{
 "cells": [
  {
   "cell_type": "code",
   "execution_count": null,
   "metadata": {},
   "outputs": [],
   "source": [
    "import glob\n",
    "import pandas as pd\n",
    "\n",
    "flist = glob.glob('/nfs/sloanlab004/projects/covid_mobility_proj/data/fb_mobility_us/*.csv')\n",
    "df = pd.concat([pd.read_csv(x) for x in flist])\n",
    "df = df[['ds', 'polygon_id', 'all_day_bing_tiles_visited_relative_change', 'all_day_ratio_single_tile_users']]\n",
    "df.columns = ['ds', 'county_fips', 'fb_btvrc', 'fb_rstu']\n",
    "df.to_csv('/nfs/sloanlab004/projects/covid_mobility_proj/data/PROCESSED_DATA/fb_mobility.csv')"
   ]
  },
  {
   "cell_type": "code",
   "execution_count": null,
   "metadata": {},
   "outputs": [],
   "source": []
  }
 ],
 "metadata": {
  "kernelspec": {
   "display_name": "Python 3",
   "language": "python",
   "name": "python3"
  },
  "language_info": {
   "codemirror_mode": {
    "name": "ipython",
    "version": 3
   },
   "file_extension": ".py",
   "mimetype": "text/x-python",
   "name": "python",
   "nbconvert_exporter": "python",
   "pygments_lexer": "ipython3",
   "version": "3.6.3"
  }
 },
 "nbformat": 4,
 "nbformat_minor": 2
}
