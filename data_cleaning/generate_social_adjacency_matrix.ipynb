{
 "cells": [
  {
   "cell_type": "code",
   "execution_count": 1,
   "metadata": {},
   "outputs": [
    {
     "name": "stderr",
     "output_type": "stream",
     "text": [
      "\n",
      "Attaching package: ‘dplyr’\n",
      "\n",
      "\n",
      "The following objects are masked from ‘package:stats’:\n",
      "\n",
      "    filter, lag\n",
      "\n",
      "\n",
      "The following objects are masked from ‘package:base’:\n",
      "\n",
      "    intersect, setdiff, setequal, union\n",
      "\n",
      "\n",
      "Loading required package: Matrix\n",
      "\n",
      "\n",
      "Attaching package: ‘Matrix’\n",
      "\n",
      "\n",
      "The following objects are masked from ‘package:tidyr’:\n",
      "\n",
      "    expand, pack, unpack\n",
      "\n",
      "\n",
      "Parsed with column specification:\n",
      "cols(\n",
      "  county_fips = \u001b[32mcol_double()\u001b[39m,\n",
      "  device_count = \u001b[32mcol_double()\u001b[39m,\n",
      "  completely_home_device_count = \u001b[32mcol_double()\u001b[39m,\n",
      "  part_time_work_behavior_devices = \u001b[32mcol_double()\u001b[39m,\n",
      "  full_time_work_behavior_devices = \u001b[32mcol_double()\u001b[39m,\n",
      "  ds = \u001b[34mcol_date(format = \"\")\u001b[39m\n",
      ")\n",
      "\n",
      "Parsed with column specification:\n",
      "cols(\n",
      "  fips = \u001b[32mcol_double()\u001b[39m,\n",
      "  name = \u001b[31mcol_character()\u001b[39m,\n",
      "  state_abbv = \u001b[31mcol_character()\u001b[39m,\n",
      "  type = \u001b[31mcol_character()\u001b[39m,\n",
      "  dt = \u001b[34mcol_date(format = \"\")\u001b[39m\n",
      ")\n",
      "\n",
      "Parsed with column specification:\n",
      "cols(\n",
      "  .default = col_double(),\n",
      "  SUMLEV = \u001b[31mcol_character()\u001b[39m,\n",
      "  STATE = \u001b[31mcol_character()\u001b[39m,\n",
      "  COUNTY = \u001b[31mcol_character()\u001b[39m,\n",
      "  STNAME = \u001b[31mcol_character()\u001b[39m,\n",
      "  CTYNAME = \u001b[31mcol_character()\u001b[39m\n",
      ")\n",
      "\n",
      "See spec(...) for full column specifications.\n",
      "\n"
     ]
    }
   ],
   "source": [
    "library(dplyr)\n",
    "library(stringr)\n",
    "library(readr)\n",
    "library(tidyr)\n",
    "library(lfe)\n",
    "fp <- '/nfs/sloanlab004/projects/covid_mobility_proj/data/'\n",
    "sci <- read_delim(str_c(fp, \n",
    "                        'fb_social_connectedness/sci_county/county_county_data.tsv'), delim ='\\t', \n",
    "                  col_types = 'ddd')\n",
    "safegraph <- read_csv(str_c(fp, 'PROCESSED_DATA/safegraph_social_distancing_aggregate_county.csv'))\n",
    "counties_long <- read_csv(str_c(fp, 'PROCESSED_DATA/county_policy_long.csv'))\n",
    "census_data <- read_csv(str_c(fp, 'census_data/cc-est2018-alldata.csv'))"
   ]
  },
  {
   "cell_type": "code",
   "execution_count": 2,
   "metadata": {},
   "outputs": [
    {
     "name": "stderr",
     "output_type": "stream",
     "text": [
      "Joining, by = \"county_fips\"\n",
      "\n",
      "Joining, by = \"county_fips\"\n",
      "\n"
     ]
    }
   ],
   "source": [
    "counties_long %>% \n",
    "    mutate(value = 1) %>%\n",
    "    spread(key = type, value = value) -> countyPolicy\n",
    "\n",
    "safegraph %>%\n",
    "    group_by(county_fips) %>%\n",
    "    summarize(n = n()) %>%\n",
    "    filter(n == max(n)) %>%\n",
    "    select(county_fips) %>%\n",
    "    inner_join(sci %>% ungroup() %>% select(county_fips = user_county) %>% distinct()) %>%\n",
    "    inner_join(countyPolicy %>% select(county_fips = fips) %>% distinct()) -> fips\n",
    "\n",
    "census_data %>% \n",
    "  filter(YEAR == 11) %>%\n",
    "  group_by(STATE, COUNTY) %>% \n",
    "  summarise(n = sum(TOT_POP)) %>% \n",
    "  ungroup() %>%\n",
    "  mutate(COUNTY = str_c(STATE, COUNTY)) %>%\n",
    "  rename(county_fips = COUNTY) %>% \n",
    "  select(-STATE) %>% \n",
    "  mutate(county_fips = as.numeric(county_fips)) -> population"
   ]
  },
  {
   "cell_type": "code",
   "execution_count": 3,
   "metadata": {},
   "outputs": [],
   "source": [
    "sci %>%\n",
    "    inner_join(fips, by = c('user_county' = 'county_fips')) %>%\n",
    "    inner_join(fips, by = c('fr_county' = 'county_fips')) %>%\n",
    "    mutate(user_state_fips = floor(user_county/1000), \n",
    "           fr_state_fips = floor(fr_county/1000), \n",
    "           sameState_sci = ifelse(user_county == fr_county, 0 ,\n",
    "                                ifelse(user_state_fips == fr_state_fips, scaled_sci, 0)),\n",
    "           outState_sci = ifelse(user_state_fips == fr_state_fips, 0, scaled_sci)) %>%\n",
    "    group_by(user_county) %>%\n",
    "    mutate(sameState_w = sameState_sci/sum(sameState_sci),\n",
    "           outState_w = outState_sci/sum(outState_sci)) %>% \n",
    "    arrange(user_county, fr_county) -> sci"
   ]
  },
  {
   "cell_type": "code",
   "execution_count": 4,
   "metadata": {},
   "outputs": [],
   "source": [
    "sci %>%\n",
    "    inner_join(fips, by = c('user_county' = 'county_fips')) %>%\n",
    "    inner_join(fips, by = c('fr_county' = 'county_fips')) %>%\n",
    "    left_join(population, by = c('fr_county' = 'county_fips')) %>%\n",
    "    mutate(w = ifelse(user_county == fr_county, 0 , scaled_sci * n)) %>%\n",
    "    group_by(user_county) %>%\n",
    "    mutate(w = w/sum(w)) %>% \n",
    "    arrange(user_county, fr_county) -> sci_weighted"
   ]
  },
  {
   "cell_type": "code",
   "execution_count": 17,
   "metadata": {},
   "outputs": [],
   "source": [
    "sci_weighted %>% \n",
    "  left_join(population, by = c('user_county' = 'county_fips')) %>% \n",
    "  mutate(user_state = floor(user_county/1000),\n",
    "         fr_state = floor(fr_county/1000)) %>% \n",
    "  group_by(user_county, user_state, fr_state, n.y) %>% \n",
    "  summarise(w = sum(w)) %>% \n",
    "  ungroup() %>% \n",
    "  group_by(user_state, fr_state) %>% \n",
    "  mutate(total_n = sum(n.y)) %>% \n",
    "  summarise(w = sum(w*n.y/total_n)) %>% \n",
    "  ungroup() %>% \n",
    "  mutate(w = ifelse(user_state == fr_state, 0, w)) %>% \n",
    "  group_by(user_state) %>% \n",
    "  mutate(w = w/sum(w)) %>% \n",
    "  ungroup() %>% \n",
    "  spread(key = fr_state, value= w) %>% \n",
    "  ungroup() %>% \n",
    "  select(-user_state) %>% \n",
    "  as.matrix() -> social_adj_matrix_state"
   ]
  },
  {
   "cell_type": "code",
   "execution_count": 20,
   "metadata": {},
   "outputs": [],
   "source": [
    "sci_weighted %>% \n",
    "    select(user_county, fr_county, w) %>%\n",
    "    spread(key = fr_county, value = w) %>%\n",
    "    ungroup() %>%\n",
    "    select(-user_county) %>%\n",
    "    as.matrix() -> social_adj_matrix"
   ]
  },
  {
   "cell_type": "code",
   "execution_count": 21,
   "metadata": {},
   "outputs": [],
   "source": [
    "save(social_adj_matrix, social_adj_matrix_state,\n",
    "     file='/nfs/sloanlab004/projects/covid_mobility_proj/data/PROCESSED_DATA/social_adj_matrix.RData')"
   ]
  }
 ],
 "metadata": {
  "kernelspec": {
   "display_name": "R 3.6.3",
   "language": "R",
   "name": "ir35"
  },
  "language_info": {
   "codemirror_mode": "r",
   "file_extension": ".r",
   "mimetype": "text/x-r-source",
   "name": "R",
   "pygments_lexer": "r",
   "version": "3.6.3"
  }
 },
 "nbformat": 4,
 "nbformat_minor": 2
}
