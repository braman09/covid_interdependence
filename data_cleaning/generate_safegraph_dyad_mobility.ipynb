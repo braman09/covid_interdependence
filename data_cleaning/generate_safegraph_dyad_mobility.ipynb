{
 "cells": [
  {
   "cell_type": "code",
   "execution_count": null,
   "metadata": {},
   "outputs": [],
   "source": [
    "# Read in necessary libraries\n",
    "# Define geo data location\n",
    "# Define processed data location\n",
    "library(dplyr)\n",
    "library(stringr)\n",
    "library(foreach)\n",
    "library(jsonlite)\n",
    "library(purrr)\n",
    "library(tidyr)\n",
    "library(readr)\n",
    "library(stringr)\n",
    "library(lubridate)\n",
    "geo_data_directory <- '/nfs/sloanlab004/projects/covid_mobility_proj/data/PROCESSED_DATA/safe_graph_geos/2020/'\n",
    "processed_data_directory <- '/nfs/sloanlab004/projects/covid_mobility_proj/data/PROCESSED_DATA/'"
   ]
  },
  {
   "cell_type": "code",
   "execution_count": null,
   "metadata": {},
   "outputs": [],
   "source": [
    "# Read in set of months\n",
    "months <- list.files(geo_data_directory)\n",
    "\n",
    "# Iterate through months\n",
    "data_wrapped <- foreach(i = months, .combine='rbind') %do% {\n",
    "    directory = str_c(geo_data_directory, i)\n",
    "    \n",
    "    # How many days in each month?\n",
    "    n_days = case_when(i == '01' ~ 31,\n",
    "                       i == '02' ~ 29,\n",
    "                       i == '03' ~ 31,\n",
    "                       i == '04' ~ 19)\n",
    "    \n",
    "    # Loop through the months\n",
    "    data_aggregate_month <- foreach(j = seq(1, n_days, 1), .combine='rbind') %do% {\n",
    "        # Construct string for file for each day\n",
    "        day_string <- str_pad(as.character(j), 2, '0', side='left')\n",
    "        file = str_c(directory, '/2020', as.character(i), as.character(day_string), '_county_graph.txt')\n",
    "        \n",
    "        # Read in file\n",
    "        data = read_tsv(file, \n",
    "                        col_types = cols(\n",
    "                            X1 = col_integer(),\n",
    "                            `origin-county` = col_integer(),\n",
    "                            `dest-county` = col_integer(),\n",
    "                            `num-devices` = col_integer()\n",
    "                        ))\n",
    "        \n",
    "        # Add day to data\n",
    "        data <- data %>% \n",
    "          mutate(ds = as.Date(str_c('2020-', i, '-', day_string)))\n",
    "        \n",
    "        # Rename rows for nice manipulation in R\n",
    "        names(data) <- c('rn', 'origin_county', 'destination_county', 'num_devices', 'ds')\n",
    "        \n",
    "        # Remove rn column\n",
    "        data <- data %>% dplyr::select(-rn)\n",
    "    }\n",
    "}"
   ]
  },
  {
   "cell_type": "code",
   "execution_count": null,
   "metadata": {},
   "outputs": [],
   "source": [
    "# Filter out county pairs that don't have at least one device traveling between them in each month in our sample.,\n",
    "# and travel between the pair for at least 30 distinct days in our sample. Also filter out any pairs\n",
    "# where one county is in a US territory.\n",
    "data_wrapped %>% \n",
    "  filter(origin_county <= 57000 & destination_county <= 57000) %>% \n",
    "  filter(origin_county != destination_county) %>%\n",
    "  group_by(origin_county, destination_county) %>% \n",
    "  mutate(n_months = n_distinct(month(ds)),\n",
    "         n = n()) %>% \n",
    "  ungroup() %>% \n",
    "  filter(n_months == 4 & n >= 30) %>% \n",
    "  dplyr::select(-n_months) -> data_wrapped_good_pairs"
   ]
  },
  {
   "cell_type": "code",
   "execution_count": null,
   "metadata": {},
   "outputs": [],
   "source": [
    "# Expand the full set of dates and county pairs\n",
    "county_dest_ds_expanded <- expand(data_wrapped_good_pairs, \n",
    "                                  ds, nesting(origin_county, destination_county))"
   ]
  },
  {
   "cell_type": "code",
   "execution_count": null,
   "metadata": {},
   "outputs": [],
   "source": [
    "# Join the observations into the full sets of dates and county pairs\n",
    "mobility_df <- county_dest_ds_expanded %>% \n",
    "  dplyr::left_join(data_wrapped_good_pairs) %>% \n",
    "  mutate(num_devices = replace_na(num_devices, 0))"
   ]
  },
  {
   "cell_type": "code",
   "execution_count": null,
   "metadata": {},
   "outputs": [],
   "source": [
    "# Write to file\n",
    "save(mobility_df, file=paste0(c(processed_data_directory,\n",
    "                                         'safegraph_dyad_mobility.Rdata'),\n",
    "                                       sep='',\n",
    "                                       collapse=''))"
   ]
  }
 ],
 "metadata": {
  "kernelspec": {
   "display_name": "R 3.6.3",
   "language": "R",
   "name": "ir35"
  },
  "language_info": {
   "codemirror_mode": "r",
   "file_extension": ".r",
   "mimetype": "text/x-r-source",
   "name": "R",
   "pygments_lexer": "r",
   "version": "3.6.3"
  }
 },
 "nbformat": 4,
 "nbformat_minor": 2
}
