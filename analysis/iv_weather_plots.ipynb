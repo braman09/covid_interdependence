{
 "cells": [
  {
   "cell_type": "code",
   "execution_count": 1,
   "metadata": {
    "scrolled": true
   },
   "outputs": [
    {
     "name": "stderr",
     "output_type": "stream",
     "text": [
      "\n",
      "Attaching package: ‘dplyr’\n",
      "\n",
      "\n",
      "The following objects are masked from ‘package:stats’:\n",
      "\n",
      "    filter, lag\n",
      "\n",
      "\n",
      "The following objects are masked from ‘package:base’:\n",
      "\n",
      "    intersect, setdiff, setequal, union\n",
      "\n",
      "\n",
      "Loading required package: Matrix\n",
      "\n",
      "\n",
      "Attaching package: ‘Matrix’\n",
      "\n",
      "\n",
      "The following objects are masked from ‘package:tidyr’:\n",
      "\n",
      "    expand, pack, unpack\n",
      "\n",
      "\n",
      "\n",
      "Attaching package: ‘scales’\n",
      "\n",
      "\n",
      "The following object is masked from ‘package:readr’:\n",
      "\n",
      "    col_factor\n",
      "\n",
      "\n",
      "\n",
      "Please cite as: \n",
      "\n",
      "\n",
      " Hlavac, Marek (2018). stargazer: Well-Formatted Regression and Summary Statistics Tables.\n",
      "\n",
      " R package version 5.2.2. https://CRAN.R-project.org/package=stargazer \n",
      "\n",
      "\n",
      "\n",
      "Attaching package: ‘gridExtra’\n",
      "\n",
      "\n",
      "The following object is masked from ‘package:dplyr’:\n",
      "\n",
      "    combine\n",
      "\n",
      "\n",
      "\n",
      "Attaching package: ‘reshape2’\n",
      "\n",
      "\n",
      "The following object is masked from ‘package:tidyr’:\n",
      "\n",
      "    smiths\n",
      "\n",
      "\n",
      "Loading required package: zoo\n",
      "\n",
      "\n",
      "Attaching package: ‘zoo’\n",
      "\n",
      "\n",
      "The following objects are masked from ‘package:base’:\n",
      "\n",
      "    as.Date, as.Date.numeric\n",
      "\n",
      "\n",
      "\n",
      "Attaching package: ‘lmtest’\n",
      "\n",
      "\n",
      "The following object is masked from ‘package:lfe’:\n",
      "\n",
      "    waldtest\n",
      "\n",
      "\n",
      "Loaded glmnet 3.0-2\n",
      "\n",
      "\n",
      "\n",
      "Attaching package: ‘xgboost’\n",
      "\n",
      "\n",
      "The following object is masked from ‘package:dplyr’:\n",
      "\n",
      "    slice\n",
      "\n",
      "\n"
     ]
    }
   ],
   "source": [
    "library(dplyr)\n",
    "library(stringr)\n",
    "library(readr)\n",
    "library(tidyr)\n",
    "library(lfe)\n",
    "library(scales)\n",
    "library(repr)\n",
    "library(stargazer)\n",
    "library(gridExtra)\n",
    "options(repr.plot.width=10, repr.plot.height=10)\n",
    "source('~/covid_mobility/paper_code/utils/adjacency_and_cluster_robust_inference.R')\n",
    "source('~/covid_mobility/paper_code/utils/residualizer+genAlters.R')\n",
    "source('../utils/labels_and_colors.r')\n",
    "load('/nfs/sloanlab004/projects/covid_mobility_proj/data/PROCESSED_DATA/social_adj_matrix.RData')\n",
    "load('/nfs/sloanlab004/projects/covid_mobility_proj/data/PROCESSED_DATA/data_v2.RData')"
   ]
  },
  {
   "cell_type": "code",
   "execution_count": null,
   "metadata": {
    "scrolled": true
   },
   "outputs": [],
   "source": [
    "options(repr.plot.width=5, repr.plot.height=10)\n",
    "ggplot(panel, aes(x = PRCP, y = sg_nhd, color = as.factor(stay_home))) + \n",
    "    geom_point(alpha = .2, size = .25) + \n",
    "    coord_cartesian(xlim = c(0, 80)) +\n",
    "    geom_smooth(method = 'lm', se = F) +\n",
    "    theme(legend.position = 'bottom')"
   ]
  },
  {
   "cell_type": "code",
   "execution_count": null,
   "metadata": {},
   "outputs": [],
   "source": [
    "options(repr.plot.width=5, repr.plot.height=10)\n",
    "ggplot(panel, aes(x = TMAX, y = sg_nhd, color = as.factor(stay_home))) + \n",
    "    geom_point(alpha = .2, size = .25) + \n",
    "    geom_smooth(method = 'lm', formula = 'y ~ x + I(x^2)', se = F) +\n",
    "    coord_cartesian(xlim= c(-5, 35)) + \n",
    "    theme(legend.position = 'bottom')"
   ]
  },
  {
   "cell_type": "code",
   "execution_count": null,
   "metadata": {},
   "outputs": [],
   "source": [
    "panel %>%\n",
    "    select(county_fips, ds, sg_nhd, sg_mcbgv, fb_rnstu, fb_btvrc) %>%\n",
    "    gather(key = 'DV', value = 'Y', -county_fips, -ds) %>%\n",
    "    left_join(panel %>% select(county_fips, ds, PRCP, stay_home)) %>%\n",
    "    ggplot(aes(x = PRCP, y = Y, color = as.factor(stay_home))) + \n",
    "    geom_point(alpha = .2, size = .25) + \n",
    "    coord_cartesian(xlim = c(0, 80)) +\n",
    "    geom_smooth(method = 'lm', se = F) +\n",
    "    facet_grid(. ~ DV, scales = 'free') +\n",
    "    theme(legend.position = 'bottom') "
   ]
  },
  {
   "cell_type": "code",
   "execution_count": null,
   "metadata": {},
   "outputs": [],
   "source": [
    "panel %>%\n",
    "    mutate(prcp.)\n",
    "\n",
    "prcp_res <- felm(PRCP ~ stay_home + ban_gatherings + ban_gmr | 0 | 0 | 0, data=panel,\n",
    "                 weights=panel$n)\n",
    "nhd_res  <- felm(sg_nhd ~ stay_home + ban_gatherings + ban_gmr | 0 | 0 | 0, data=panel,\n",
    "                 weights=panel$n)\n",
    "temp_res <- felm(TMAX ~ stay_home + ban_gatherings + ban_gmr | 0 | 0 | 0, data=panel,\n",
    "                 weights=panel$n)\n",
    "\n",
    "panel$prcp_res <- as.vector(residuals(prcp_res))\n",
    "panel$nhd_res <- as.vector(residuals(nhd_res))\n",
    "panel$temp_res <- as.vector(residuals(temp_res))\n",
    "panel <- cbind(panel, weightedAlters.mod(panel, WM, 'alter_prcp_res', prcp_res))\n",
    "panel <- cbind(panel, weightedAlters.mod(panel, WM, 'alter_nhd_res', nhd_res))\n",
    "panel <- cbind(panel, weightedAlters.mod(panel, WM, 'alter_temp_res', temp_res))"
   ]
  },
  {
   "cell_type": "code",
   "execution_count": null,
   "metadata": {},
   "outputs": [],
   "source": [
    "rain_instr_plot <- panel %>%\n",
    "  ggplot(., aes(x=alter_prcp_res, y=alter_nhd_res)) + geom_point(alpha=.05) + geom_smooth(method='lm', se=FALSE) + \n",
    "  xlab('Average residual alter rainfall') + ylab('Average residual alter\\ndevices not at home') + \n",
    "  stat_summary_bin(fun='mean', bins=50, size=2, geom='point', color='red') + \n",
    "  xlim(c(min(panel$alter_prcp_res), quantile(panel$alter_prcp_res, .95))) + \n",
    "  scale_color_manual(values = outcome_source_colors)"
   ]
  },
  {
   "cell_type": "code",
   "execution_count": null,
   "metadata": {},
   "outputs": [],
   "source": [
    "ggsave(\n",
    "  paste0(\"../output/rain_instr_plot.pdf\"),\n",
    "  plot = rain_instr_plot,\n",
    "  device = NULL,\n",
    "  path = NULL,\n",
    "  scale = 1.2,\n",
    "  width = 7.5,\n",
    "  height = 6,\n",
    "  units = c(\"in\"),\n",
    "  dpi = 200,\n",
    "  limitsize = FALSE,\n",
    "  useDingbats=FALSE\n",
    ")"
   ]
  },
  {
   "cell_type": "code",
   "execution_count": null,
   "metadata": {},
   "outputs": [],
   "source": [
    "tmp_instr_plot <- panel %>%\n",
    "  ggplot(., aes(x=alter_temp_res, y=alter_nhd_res)) + geom_point(alpha=.05) + geom_smooth(method='lm', se=FALSE) + \n",
    "  xlab('Average residual alter temperature') + ylab('Average residual alter\\ndevices not at home') + \n",
    "  stat_summary_bin(fun='mean', bins=50, size=2, geom='point', color='red') + \n",
    "  xlim(c(min(panel$alter_temp_res), quantile(panel$alter_temp_res, .95))) + \n",
    "  scale_color_manual(values = outcome_source_colors)"
   ]
  },
  {
   "cell_type": "code",
   "execution_count": null,
   "metadata": {},
   "outputs": [],
   "source": [
    "ggsave(\n",
    "  paste0(\"../output/tmp_instr_plot.pdf\"),\n",
    "  plot = tmp_instr_plot,\n",
    "  device = NULL,\n",
    "  path = NULL,\n",
    "  scale = 1.2,\n",
    "  width = 7.5,\n",
    "  height = 6,\n",
    "  units = c(\"in\"),\n",
    "  dpi = 200,\n",
    "  limitsize = FALSE,\n",
    "  useDingbats=FALSE\n",
    ")"
   ]
  }
 ],
 "metadata": {
  "kernelspec": {
   "display_name": "R 3.6",
   "language": "R",
   "name": "ir36"
  },
  "language_info": {
   "codemirror_mode": "r",
   "file_extension": ".r",
   "mimetype": "text/x-r-source",
   "name": "R",
   "pygments_lexer": "r",
   "version": "3.6.3"
  }
 },
 "nbformat": 4,
 "nbformat_minor": 2
}
