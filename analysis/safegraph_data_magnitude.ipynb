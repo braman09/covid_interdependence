{
 "cells": [
  {
   "cell_type": "code",
   "execution_count": 1,
   "metadata": {},
   "outputs": [
    {
     "name": "stderr",
     "output_type": "stream",
     "text": [
      "\n",
      "Attaching package: ‘dplyr’\n",
      "\n",
      "\n",
      "The following objects are masked from ‘package:stats’:\n",
      "\n",
      "    filter, lag\n",
      "\n",
      "\n",
      "The following objects are masked from ‘package:base’:\n",
      "\n",
      "    intersect, setdiff, setequal, union\n",
      "\n",
      "\n",
      "Parsed with column specification:\n",
      "cols(\n",
      "  county_fips = \u001b[32mcol_double()\u001b[39m,\n",
      "  device_count = \u001b[32mcol_double()\u001b[39m,\n",
      "  completely_home_device_count = \u001b[32mcol_double()\u001b[39m,\n",
      "  part_time_work_behavior_devices = \u001b[32mcol_double()\u001b[39m,\n",
      "  full_time_work_behavior_devices = \u001b[32mcol_double()\u001b[39m,\n",
      "  ds = \u001b[34mcol_date(format = \"\")\u001b[39m\n",
      ")\n",
      "\n"
     ]
    }
   ],
   "source": [
    "library(readr)\n",
    "library(dplyr)\n",
    "library(stringr)\n",
    "fp <- '/nfs/sloanlab004/projects/covid_mobility_proj/data/'\n",
    "safegraph     <- read_csv(str_c(fp, 'PROCESSED_DATA/safegraph_social_distancing_aggregate_county.csv'))"
   ]
  },
  {
   "cell_type": "code",
   "execution_count": 2,
   "metadata": {},
   "outputs": [
    {
     "data": {
      "text/html": [
       "<table>\n",
       "<caption>A tibble: 1 × 2</caption>\n",
       "<thead>\n",
       "\t<tr><th scope=col>n_counts</th><th scope=col>unique_devices_approx</th></tr>\n",
       "\t<tr><th scope=col>&lt;int&gt;</th><th scope=col>&lt;dbl&gt;</th></tr>\n",
       "</thead>\n",
       "<tbody>\n",
       "\t<tr><td>3229</td><td>23385440</td></tr>\n",
       "</tbody>\n",
       "</table>\n"
      ],
      "text/latex": [
       "A tibble: 1 × 2\n",
       "\\begin{tabular}{ll}\n",
       " n\\_counts & unique\\_devices\\_approx\\\\\n",
       " <int> & <dbl>\\\\\n",
       "\\hline\n",
       "\t 3229 & 23385440\\\\\n",
       "\\end{tabular}\n"
      ],
      "text/markdown": [
       "\n",
       "A tibble: 1 × 2\n",
       "\n",
       "| n_counts &lt;int&gt; | unique_devices_approx &lt;dbl&gt; |\n",
       "|---|---|\n",
       "| 3229 | 23385440 |\n",
       "\n"
      ],
      "text/plain": [
       "  n_counts unique_devices_approx\n",
       "1 3229     23385440             "
      ]
     },
     "metadata": {},
     "output_type": "display_data"
    }
   ],
   "source": [
    "safegraph %>% \n",
    "  group_by(county_fips) %>% \n",
    "  summarise(max_device_count = max(device_count)) %>% \n",
    "  ungroup() %>% \n",
    "  summarise(n_counts = n(),\n",
    "            unique_devices_approx = sum(max_device_count))"
   ]
  }
 ],
 "metadata": {
  "kernelspec": {
   "display_name": "R 3.6.3",
   "language": "R",
   "name": "ir35"
  },
  "language_info": {
   "codemirror_mode": "r",
   "file_extension": ".r",
   "mimetype": "text/x-r-source",
   "name": "R",
   "pygments_lexer": "r",
   "version": "3.6.3"
  }
 },
 "nbformat": 4,
 "nbformat_minor": 2
}
