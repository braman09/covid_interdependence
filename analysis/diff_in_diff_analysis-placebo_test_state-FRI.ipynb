{
 "cells": [
  {
   "cell_type": "code",
   "execution_count": 1,
   "metadata": {
    "scrolled": true
   },
   "outputs": [
    {
     "name": "stderr",
     "output_type": "stream",
     "text": [
      "\n",
      "********************************************************\n",
      "\n",
      "Note: As of version 1.0.0, cowplot does not change the\n",
      "\n",
      "  default ggplot2 theme anymore. To recover the previous\n",
      "\n",
      "  behavior, execute:\n",
      "  theme_set(theme_cowplot())\n",
      "\n",
      "********************************************************\n",
      "\n",
      "\n",
      "\n",
      "Attaching package: ‘dplyr’\n",
      "\n",
      "\n",
      "The following objects are masked from ‘package:stats’:\n",
      "\n",
      "    filter, lag\n",
      "\n",
      "\n",
      "The following objects are masked from ‘package:base’:\n",
      "\n",
      "    intersect, setdiff, setequal, union\n",
      "\n",
      "\n",
      "Loading required package: Matrix\n",
      "\n",
      "\n",
      "Attaching package: ‘Matrix’\n",
      "\n",
      "\n",
      "The following objects are masked from ‘package:tidyr’:\n",
      "\n",
      "    expand, pack, unpack\n",
      "\n",
      "\n",
      "\n",
      "Attaching package: ‘scales’\n",
      "\n",
      "\n",
      "The following object is masked from ‘package:readr’:\n",
      "\n",
      "    col_factor\n",
      "\n",
      "\n",
      "\n",
      "Please cite as: \n",
      "\n",
      "\n",
      " Hlavac, Marek (2018). stargazer: Well-Formatted Regression and Summary Statistics Tables.\n",
      "\n",
      " R package version 5.2.2. https://CRAN.R-project.org/package=stargazer \n",
      "\n",
      "\n",
      "Loading required package: foreach\n",
      "\n",
      "Loading required package: iterators\n",
      "\n",
      "Loading required package: parallel\n",
      "\n"
     ]
    }
   ],
   "source": [
    "library(cowplot)\n",
    "library(dplyr)\n",
    "library(stringr)\n",
    "library(readr)\n",
    "library(tidyr)\n",
    "library(lfe)\n",
    "library(scales)\n",
    "library(repr)\n",
    "library(stargazer)\n",
    "library(doMC)\n",
    "library(sjPlot)\n",
    "registerDoMC(12)"
   ]
  },
  {
   "cell_type": "code",
   "execution_count": 2,
   "metadata": {},
   "outputs": [
    {
     "name": "stderr",
     "output_type": "stream",
     "text": [
      "Loaded glmnet 3.0-2\n",
      "\n",
      "\n",
      "\n",
      "Attaching package: ‘xgboost’\n",
      "\n",
      "\n",
      "The following object is masked from ‘package:dplyr’:\n",
      "\n",
      "    slice\n",
      "\n",
      "\n",
      "\n",
      "Attaching package: ‘reshape2’\n",
      "\n",
      "\n",
      "The following object is masked from ‘package:tidyr’:\n",
      "\n",
      "    smiths\n",
      "\n",
      "\n",
      "Loading required package: zoo\n",
      "\n",
      "\n",
      "Attaching package: ‘zoo’\n",
      "\n",
      "\n",
      "The following objects are masked from ‘package:base’:\n",
      "\n",
      "    as.Date, as.Date.numeric\n",
      "\n",
      "\n",
      "\n",
      "Attaching package: ‘lmtest’\n",
      "\n",
      "\n",
      "The following object is masked from ‘package:lfe’:\n",
      "\n",
      "    waldtest\n",
      "\n",
      "\n"
     ]
    }
   ],
   "source": [
    "panel <- readRDS('/nfs/sloanlab004/projects/covid_mobility_proj/data/PROCESSED_DATA/data_v2.RData')\n",
    "load('/nfs/sloanlab004/projects/covid_mobility_proj/data/PROCESSED_DATA/conley_selector_matrix.Rdata')\n",
    "load('/nfs/sloanlab004/projects/covid_mobility_proj/data/PROCESSED_DATA/social_adj_matrix.RData')\n",
    "load('/nfs/sloanlab004/projects/covid_mobility_proj/data/PROCESSED_DATA/geo_adjacency_matrix.Rdata')\n",
    "source('../utils/residualizer+genAlters.R')\n",
    "source(\"../utils/labels_and_colors.r\")\n",
    "source('../utils/adjacency_and_cluster_robust_inference.R')\n",
    "source('../utils/geo_utils.r')"
   ]
  },
  {
   "cell_type": "code",
   "execution_count": 3,
   "metadata": {},
   "outputs": [],
   "source": [
    "model_location <- '/nfs/sloanlab004/projects/covid_mobility_proj/models/did_placebo_state/'\n",
    "model_prefix <- 'DiD_state_geoSocial_'"
   ]
  },
  {
   "cell_type": "code",
   "execution_count": 4,
   "metadata": {},
   "outputs": [
    {
     "data": {
      "text/html": [
       "<table>\n",
       "<caption>A tibble: 6 × 523</caption>\n",
       "<thead>\n",
       "\t<tr><th scope=col>ds</th><th scope=col>county_fips</th><th scope=col>sg_nhd</th><th scope=col>ash_nhd</th><th scope=col>state_abbv</th><th scope=col>stay_home</th><th scope=col>PRCP</th><th scope=col>TMAX</th><th scope=col>fb_btvrc</th><th scope=col>fb_rnstu</th><th scope=col>⋯</th><th scope=col>iv368</th><th scope=col>iv369</th><th scope=col>iv370</th><th scope=col>iv371</th><th scope=col>iv372</th><th scope=col>iv373</th><th scope=col>iv374</th><th scope=col>iv375</th><th scope=col>iv376</th><th scope=col>iv377</th></tr>\n",
       "\t<tr><th scope=col>&lt;date&gt;</th><th scope=col>&lt;dbl&gt;</th><th scope=col>&lt;dbl&gt;</th><th scope=col>&lt;dbl&gt;</th><th scope=col>&lt;chr&gt;</th><th scope=col>&lt;dbl&gt;</th><th scope=col>&lt;dbl&gt;</th><th scope=col>&lt;dbl&gt;</th><th scope=col>&lt;dbl&gt;</th><th scope=col>&lt;dbl&gt;</th><th scope=col>⋯</th><th scope=col>&lt;dbl&gt;</th><th scope=col>&lt;dbl&gt;</th><th scope=col>&lt;dbl&gt;</th><th scope=col>&lt;dbl&gt;</th><th scope=col>&lt;dbl&gt;</th><th scope=col>&lt;dbl&gt;</th><th scope=col>&lt;dbl&gt;</th><th scope=col>&lt;dbl&gt;</th><th scope=col>&lt;dbl&gt;</th><th scope=col>&lt;dbl&gt;</th></tr>\n",
       "</thead>\n",
       "<tbody>\n",
       "\t<tr><td>2020-03-01</td><td>1001</td><td>0.7637755</td><td>0.7041312</td><td>AL</td><td>0</td><td>0.00000000</td><td>20.26667</td><td>0.11245388</td><td>0.8800191</td><td>⋯</td><td>0.005357271</td><td>0.006663710</td><td>0.003511309</td><td>0.004241189</td><td>0.004072092</td><td>0.002667733</td><td>0.007564764</td><td> 0.0012265722</td><td> 1.372792e-03</td><td> 0.0022149108</td></tr>\n",
       "\t<tr><td>2020-03-01</td><td>1003</td><td>0.7363590</td><td>0.6821986</td><td>AL</td><td>0</td><td>0.01304348</td><td>20.57500</td><td>0.10008760</td><td>0.8748285</td><td>⋯</td><td>0.006137997</td><td>0.006348736</td><td>0.004151409</td><td>0.002834256</td><td>0.002809559</td><td>0.001936217</td><td>0.006396609</td><td> 0.0005820805</td><td> 8.375583e-04</td><td> 0.0012945267</td></tr>\n",
       "\t<tr><td>2020-03-01</td><td>1005</td><td>0.7258938</td><td>0.6737506</td><td>AL</td><td>0</td><td>0.00000000</td><td>17.20000</td><td>0.16629393</td><td>0.9076493</td><td>⋯</td><td>0.009109887</td><td>0.006426609</td><td>0.005651953</td><td>0.007230479</td><td>0.005569759</td><td>0.004599765</td><td>0.015908641</td><td> 0.0039989973</td><td> 4.200572e-03</td><td> 0.0081765988</td></tr>\n",
       "\t<tr><td>2020-03-01</td><td>1007</td><td>0.7555653</td><td>0.6975934</td><td>AL</td><td>0</td><td>0.00000000</td><td>20.60000</td><td>0.11779337</td><td>0.9035088</td><td>⋯</td><td>0.004777497</td><td>0.005818908</td><td>0.004105634</td><td>0.003127532</td><td>0.002442699</td><td>0.001934998</td><td>0.006958150</td><td>-0.0001016781</td><td> 5.247706e-05</td><td> 0.0001270144</td></tr>\n",
       "\t<tr><td>2020-03-01</td><td>1009</td><td>0.7719222</td><td>0.7105927</td><td>AL</td><td>0</td><td>0.00000000</td><td>18.90000</td><td>0.08822023</td><td>0.8926064</td><td>⋯</td><td>0.004944538</td><td>0.004278320</td><td>0.002546250</td><td>0.002235429</td><td>0.001753761</td><td>0.001393184</td><td>0.004096344</td><td>-0.0001758338</td><td>-2.536857e-05</td><td>-0.0002467153</td></tr>\n",
       "\t<tr><td>2020-03-01</td><td>1011</td><td>0.6967632</td><td>0.6500129</td><td>AL</td><td>0</td><td>0.00000000</td><td>19.13333</td><td>0.16487885</td><td>0.9151515</td><td>⋯</td><td>0.005793979</td><td>0.005664000</td><td>0.003137927</td><td>0.003334738</td><td>0.003452031</td><td>0.002706258</td><td>0.007705054</td><td> 0.0012745797</td><td> 1.470142e-03</td><td> 0.0029409972</td></tr>\n",
       "</tbody>\n",
       "</table>\n"
      ],
      "text/latex": [
       "A tibble: 6 × 523\n",
       "\\begin{tabular}{lllllllllllllllllllll}\n",
       " ds & county\\_fips & sg\\_nhd & ash\\_nhd & state\\_abbv & stay\\_home & PRCP & TMAX & fb\\_btvrc & fb\\_rnstu & ⋯ & iv368 & iv369 & iv370 & iv371 & iv372 & iv373 & iv374 & iv375 & iv376 & iv377\\\\\n",
       " <date> & <dbl> & <dbl> & <dbl> & <chr> & <dbl> & <dbl> & <dbl> & <dbl> & <dbl> & ⋯ & <dbl> & <dbl> & <dbl> & <dbl> & <dbl> & <dbl> & <dbl> & <dbl> & <dbl> & <dbl>\\\\\n",
       "\\hline\n",
       "\t 2020-03-01 & 1001 & 0.7637755 & 0.7041312 & AL & 0 & 0.00000000 & 20.26667 & 0.11245388 & 0.8800191 & ⋯ & 0.005357271 & 0.006663710 & 0.003511309 & 0.004241189 & 0.004072092 & 0.002667733 & 0.007564764 &  0.0012265722 &  1.372792e-03 &  0.0022149108\\\\\n",
       "\t 2020-03-01 & 1003 & 0.7363590 & 0.6821986 & AL & 0 & 0.01304348 & 20.57500 & 0.10008760 & 0.8748285 & ⋯ & 0.006137997 & 0.006348736 & 0.004151409 & 0.002834256 & 0.002809559 & 0.001936217 & 0.006396609 &  0.0005820805 &  8.375583e-04 &  0.0012945267\\\\\n",
       "\t 2020-03-01 & 1005 & 0.7258938 & 0.6737506 & AL & 0 & 0.00000000 & 17.20000 & 0.16629393 & 0.9076493 & ⋯ & 0.009109887 & 0.006426609 & 0.005651953 & 0.007230479 & 0.005569759 & 0.004599765 & 0.015908641 &  0.0039989973 &  4.200572e-03 &  0.0081765988\\\\\n",
       "\t 2020-03-01 & 1007 & 0.7555653 & 0.6975934 & AL & 0 & 0.00000000 & 20.60000 & 0.11779337 & 0.9035088 & ⋯ & 0.004777497 & 0.005818908 & 0.004105634 & 0.003127532 & 0.002442699 & 0.001934998 & 0.006958150 & -0.0001016781 &  5.247706e-05 &  0.0001270144\\\\\n",
       "\t 2020-03-01 & 1009 & 0.7719222 & 0.7105927 & AL & 0 & 0.00000000 & 18.90000 & 0.08822023 & 0.8926064 & ⋯ & 0.004944538 & 0.004278320 & 0.002546250 & 0.002235429 & 0.001753761 & 0.001393184 & 0.004096344 & -0.0001758338 & -2.536857e-05 & -0.0002467153\\\\\n",
       "\t 2020-03-01 & 1011 & 0.6967632 & 0.6500129 & AL & 0 & 0.00000000 & 19.13333 & 0.16487885 & 0.9151515 & ⋯ & 0.005793979 & 0.005664000 & 0.003137927 & 0.003334738 & 0.003452031 & 0.002706258 & 0.007705054 &  0.0012745797 &  1.470142e-03 &  0.0029409972\\\\\n",
       "\\end{tabular}\n"
      ],
      "text/markdown": [
       "\n",
       "A tibble: 6 × 523\n",
       "\n",
       "| ds &lt;date&gt; | county_fips &lt;dbl&gt; | sg_nhd &lt;dbl&gt; | ash_nhd &lt;dbl&gt; | state_abbv &lt;chr&gt; | stay_home &lt;dbl&gt; | PRCP &lt;dbl&gt; | TMAX &lt;dbl&gt; | fb_btvrc &lt;dbl&gt; | fb_rnstu &lt;dbl&gt; | ⋯ ⋯ | iv368 &lt;dbl&gt; | iv369 &lt;dbl&gt; | iv370 &lt;dbl&gt; | iv371 &lt;dbl&gt; | iv372 &lt;dbl&gt; | iv373 &lt;dbl&gt; | iv374 &lt;dbl&gt; | iv375 &lt;dbl&gt; | iv376 &lt;dbl&gt; | iv377 &lt;dbl&gt; |\n",
       "|---|---|---|---|---|---|---|---|---|---|---|---|---|---|---|---|---|---|---|---|---|\n",
       "| 2020-03-01 | 1001 | 0.7637755 | 0.7041312 | AL | 0 | 0.00000000 | 20.26667 | 0.11245388 | 0.8800191 | ⋯ | 0.005357271 | 0.006663710 | 0.003511309 | 0.004241189 | 0.004072092 | 0.002667733 | 0.007564764 |  0.0012265722 |  1.372792e-03 |  0.0022149108 |\n",
       "| 2020-03-01 | 1003 | 0.7363590 | 0.6821986 | AL | 0 | 0.01304348 | 20.57500 | 0.10008760 | 0.8748285 | ⋯ | 0.006137997 | 0.006348736 | 0.004151409 | 0.002834256 | 0.002809559 | 0.001936217 | 0.006396609 |  0.0005820805 |  8.375583e-04 |  0.0012945267 |\n",
       "| 2020-03-01 | 1005 | 0.7258938 | 0.6737506 | AL | 0 | 0.00000000 | 17.20000 | 0.16629393 | 0.9076493 | ⋯ | 0.009109887 | 0.006426609 | 0.005651953 | 0.007230479 | 0.005569759 | 0.004599765 | 0.015908641 |  0.0039989973 |  4.200572e-03 |  0.0081765988 |\n",
       "| 2020-03-01 | 1007 | 0.7555653 | 0.6975934 | AL | 0 | 0.00000000 | 20.60000 | 0.11779337 | 0.9035088 | ⋯ | 0.004777497 | 0.005818908 | 0.004105634 | 0.003127532 | 0.002442699 | 0.001934998 | 0.006958150 | -0.0001016781 |  5.247706e-05 |  0.0001270144 |\n",
       "| 2020-03-01 | 1009 | 0.7719222 | 0.7105927 | AL | 0 | 0.00000000 | 18.90000 | 0.08822023 | 0.8926064 | ⋯ | 0.004944538 | 0.004278320 | 0.002546250 | 0.002235429 | 0.001753761 | 0.001393184 | 0.004096344 | -0.0001758338 | -2.536857e-05 | -0.0002467153 |\n",
       "| 2020-03-01 | 1011 | 0.6967632 | 0.6500129 | AL | 0 | 0.00000000 | 19.13333 | 0.16487885 | 0.9151515 | ⋯ | 0.005793979 | 0.005664000 | 0.003137927 | 0.003334738 | 0.003452031 | 0.002706258 | 0.007705054 |  0.0012745797 |  1.470142e-03 |  0.0029409972 |\n",
       "\n"
      ],
      "text/plain": [
       "  ds         county_fips sg_nhd    ash_nhd   state_abbv stay_home PRCP      \n",
       "1 2020-03-01 1001        0.7637755 0.7041312 AL         0         0.00000000\n",
       "2 2020-03-01 1003        0.7363590 0.6821986 AL         0         0.01304348\n",
       "3 2020-03-01 1005        0.7258938 0.6737506 AL         0         0.00000000\n",
       "4 2020-03-01 1007        0.7555653 0.6975934 AL         0         0.00000000\n",
       "5 2020-03-01 1009        0.7719222 0.7105927 AL         0         0.00000000\n",
       "6 2020-03-01 1011        0.6967632 0.6500129 AL         0         0.00000000\n",
       "  TMAX     fb_btvrc   fb_rnstu  ⋯ iv368       iv369       iv370      \n",
       "1 20.26667 0.11245388 0.8800191 ⋯ 0.005357271 0.006663710 0.003511309\n",
       "2 20.57500 0.10008760 0.8748285 ⋯ 0.006137997 0.006348736 0.004151409\n",
       "3 17.20000 0.16629393 0.9076493 ⋯ 0.009109887 0.006426609 0.005651953\n",
       "4 20.60000 0.11779337 0.9035088 ⋯ 0.004777497 0.005818908 0.004105634\n",
       "5 18.90000 0.08822023 0.8926064 ⋯ 0.004944538 0.004278320 0.002546250\n",
       "6 19.13333 0.16487885 0.9151515 ⋯ 0.005793979 0.005664000 0.003137927\n",
       "  iv371       iv372       iv373       iv374       iv375         iv376        \n",
       "1 0.004241189 0.004072092 0.002667733 0.007564764  0.0012265722  1.372792e-03\n",
       "2 0.002834256 0.002809559 0.001936217 0.006396609  0.0005820805  8.375583e-04\n",
       "3 0.007230479 0.005569759 0.004599765 0.015908641  0.0039989973  4.200572e-03\n",
       "4 0.003127532 0.002442699 0.001934998 0.006958150 -0.0001016781  5.247706e-05\n",
       "5 0.002235429 0.001753761 0.001393184 0.004096344 -0.0001758338 -2.536857e-05\n",
       "6 0.003334738 0.003452031 0.002706258 0.007705054  0.0012745797  1.470142e-03\n",
       "  iv377        \n",
       "1  0.0022149108\n",
       "2  0.0012945267\n",
       "3  0.0081765988\n",
       "4  0.0001270144\n",
       "5 -0.0002467153\n",
       "6  0.0029409972"
      ]
     },
     "metadata": {},
     "output_type": "display_data"
    }
   ],
   "source": [
    "head(panel)"
   ]
  },
  {
   "cell_type": "code",
   "execution_count": 5,
   "metadata": {},
   "outputs": [],
   "source": [
    "DV = c('ash_rnstu', 'ash_nhd', 'fb_btvrc', 'log_mcbgv')"
   ]
  },
  {
   "cell_type": "markdown",
   "metadata": {},
   "source": [
    "### compute f stat on the observed model"
   ]
  },
  {
   "cell_type": "code",
   "execution_count": 133,
   "metadata": {},
   "outputs": [],
   "source": [
    "formula_1 <- ash_rnstu.r ~ 0 + stay_home.r + alter_sh.r + geo_alter_sh.r + ban_gmr.r + alter_bgmr.r + geo_alter_bgmr.r | county_fips + ds | 0 | state_abbv\n",
    "wald_formula <- ~ alter_sh.r + geo_alter_sh.r\n",
    "wald_formula_gmr <- ~ alter_bgmr.r + geo_alter_bgmr.r"
   ]
  },
  {
   "cell_type": "code",
   "execution_count": 156,
   "metadata": {},
   "outputs": [
    {
     "data": {
      "text/html": [
       "<strong>F:</strong> 14.5855111036092"
      ],
      "text/latex": [
       "\\textbf{F:} 14.5855111036092"
      ],
      "text/markdown": [
       "**F:** 14.5855111036092"
      ],
      "text/plain": [
       "       F \n",
       "14.58551 "
      ]
     },
     "metadata": {},
     "output_type": "display_data"
    },
    {
     "data": {
      "text/html": [
       "<strong>F:</strong> 0.0996369470948867"
      ],
      "text/latex": [
       "\\textbf{F:} 0.0996369470948867"
      ],
      "text/markdown": [
       "**F:** 0.0996369470948867"
      ],
      "text/plain": [
       "         F \n",
       "0.09963695 "
      ]
     },
     "metadata": {},
     "output_type": "display_data"
    }
   ],
   "source": [
    "fm <- felm(\n",
    "        formula_1,\n",
    "        data = panel,\n",
    "        weights = panel$n\n",
    "    )\n",
    "f_obs1 = lfe::waldtest(fm, wald_formula)['F']\n",
    "f_obs1_gmr = lfe::waldtest(fm, wald_formula_gmr)['F']\n",
    "f_obs1\n",
    "f_obs1_gmr\n",
    "\n",
    "f_obs1_df <- data.frame(f_obs = c(f_obs1, f_obs1_gmr),\n",
    "                        policy = c('Shelter-in-place', \n",
    "                                'Close gyms, movie theaters, and restaurants'))"
   ]
  },
  {
   "cell_type": "code",
   "execution_count": 135,
   "metadata": {},
   "outputs": [],
   "source": [
    "formula_2 <- ash_nhd.r ~ 0 + stay_home.r + alter_sh.r + geo_alter_sh.r + ban_gmr.r + alter_bgmr.r + geo_alter_bgmr.r | county_fips + ds | 0 | state_abbv"
   ]
  },
  {
   "cell_type": "code",
   "execution_count": 155,
   "metadata": {},
   "outputs": [
    {
     "data": {
      "text/html": [
       "<strong>F:</strong> 15.3794795547111"
      ],
      "text/latex": [
       "\\textbf{F:} 15.3794795547111"
      ],
      "text/markdown": [
       "**F:** 15.3794795547111"
      ],
      "text/plain": [
       "       F \n",
       "15.37948 "
      ]
     },
     "metadata": {},
     "output_type": "display_data"
    },
    {
     "data": {
      "text/html": [
       "<strong>F:</strong> 0.156497968222375"
      ],
      "text/latex": [
       "\\textbf{F:} 0.156497968222375"
      ],
      "text/markdown": [
       "**F:** 0.156497968222375"
      ],
      "text/plain": [
       "       F \n",
       "0.156498 "
      ]
     },
     "metadata": {},
     "output_type": "display_data"
    }
   ],
   "source": [
    "fm <- felm(\n",
    "        formula_2,\n",
    "        data = panel,\n",
    "        weights = panel$n\n",
    "    )\n",
    "f_obs2 = lfe::waldtest(fm, wald_formula)['F']\n",
    "f_obs2_gmr = lfe::waldtest(fm, wald_formula_gmr)['F']\n",
    "f_obs2\n",
    "f_obs2_gmr\n",
    "\n",
    "f_obs2_df <- data.frame(f_obs = c(f_obs2, f_obs2_gmr),\n",
    "                        policy = c('Shelter-in-place', \n",
    "                                'Close gyms, movie theaters, and restaurants'))"
   ]
  },
  {
   "cell_type": "code",
   "execution_count": 10,
   "metadata": {},
   "outputs": [],
   "source": [
    "formula_3 <- fb_btvrc.r ~ 0 + stay_home.r + alter_sh.r + geo_alter_sh.r + ban_gmr.r + alter_bgmr.r + geo_alter_bgmr.r | county_fips + ds | 0 | state_abbv"
   ]
  },
  {
   "cell_type": "code",
   "execution_count": 154,
   "metadata": {},
   "outputs": [
    {
     "data": {
      "text/html": [
       "<strong>F:</strong> 41.0121518223042"
      ],
      "text/latex": [
       "\\textbf{F:} 41.0121518223042"
      ],
      "text/markdown": [
       "**F:** 41.0121518223042"
      ],
      "text/plain": [
       "       F \n",
       "41.01215 "
      ]
     },
     "metadata": {},
     "output_type": "display_data"
    },
    {
     "data": {
      "text/html": [
       "<strong>F:</strong> 10.3235592750239"
      ],
      "text/latex": [
       "\\textbf{F:} 10.3235592750239"
      ],
      "text/markdown": [
       "**F:** 10.3235592750239"
      ],
      "text/plain": [
       "       F \n",
       "10.32356 "
      ]
     },
     "metadata": {},
     "output_type": "display_data"
    }
   ],
   "source": [
    "fm <- felm(\n",
    "        formula_3,\n",
    "        data = panel,\n",
    "        weights = panel$n\n",
    "    )\n",
    "f_obs3 = lfe::waldtest(fm, wald_formula)['F']\n",
    "f_obs3_gmr = lfe::waldtest(fm, wald_formula_gmr)['F']\n",
    "f_obs3\n",
    "f_obs3_gmr\n",
    "\n",
    "f_obs3_df <- data.frame(f_obs = c(f_obs3, f_obs3_gmr),\n",
    "                        policy = c('Shelter-in-place', \n",
    "                                'Close gyms, movie theaters, and restaurants'))"
   ]
  },
  {
   "cell_type": "code",
   "execution_count": 12,
   "metadata": {},
   "outputs": [],
   "source": [
    "formula_4 <- log_mcbgv.r ~ 0 + stay_home.r + alter_sh.r + geo_alter_sh.r + ban_gmr.r + alter_bgmr.r + geo_alter_bgmr.r | county_fips + ds | 0 | state_abbv"
   ]
  },
  {
   "cell_type": "code",
   "execution_count": 146,
   "metadata": {
    "scrolled": true
   },
   "outputs": [
    {
     "data": {
      "text/html": [
       "<strong>F:</strong> 14.4029456917901"
      ],
      "text/latex": [
       "\\textbf{F:} 14.4029456917901"
      ],
      "text/markdown": [
       "**F:** 14.4029456917901"
      ],
      "text/plain": [
       "       F \n",
       "14.40295 "
      ]
     },
     "metadata": {},
     "output_type": "display_data"
    },
    {
     "data": {
      "text/html": [
       "<strong>F:</strong> 0.860985381399084"
      ],
      "text/latex": [
       "\\textbf{F:} 0.860985381399084"
      ],
      "text/markdown": [
       "**F:** 0.860985381399084"
      ],
      "text/plain": [
       "        F \n",
       "0.8609854 "
      ]
     },
     "metadata": {},
     "output_type": "display_data"
    }
   ],
   "source": [
    "fm <- felm(\n",
    "        formula_4,\n",
    "        data = panel,\n",
    "        weights = panel$n\n",
    "    )\n",
    "f_obs4 = lfe::waldtest(fm, wald_formula)['F']\n",
    "f_obs4_gmr = lfe::waldtest(fm, wald_formula_gmr)['F']\n",
    "f_obs4\n",
    "f_obs4_gmr\n",
    "\n",
    "f_obs4_df <- data.frame(f_obs = c(f_obs4, f_obs4_gmr),\n",
    "                        policy = c('Shelter-in-place', \n",
    "                                'Close gyms, movie theaters, and restaurants'))"
   ]
  },
  {
   "cell_type": "code",
   "execution_count": 89,
   "metadata": {},
   "outputs": [
    {
     "data": {
      "image/png": "[encoded data removed]",
      "text/plain": [
       "plot without title"
      ]
     },
     "metadata": {
      "image/png": {
       "height": 420,
       "width": 420
      }
     },
     "output_type": "display_data"
    }
   ],
   "source": [
    "dof1 <- lfe::waldtest(fm, wald_formula)['df1']\n",
    "dof2 <- lfe::waldtest(fm, wald_formula)['df2']\n",
    "theoretical_f <- dist_f(deg.f1 = dof1,\n",
    "                        deg.f2 = dof2)$data\n",
    "theoretical_f %>% \n",
    "  mutate(y = 1000*y) -> theoretical_f"
   ]
  },
  {
   "cell_type": "markdown",
   "metadata": {},
   "source": [
    "### compute f stat for placebo draws and show p-value and distribution "
   ]
  },
  {
   "cell_type": "code",
   "execution_count": null,
   "metadata": {},
   "outputs": [],
   "source": [
    "placebo = list.files(model_location)"
   ]
  },
  {
   "cell_type": "markdown",
   "metadata": {},
   "source": [
    "### ash_rnstu"
   ]
  },
  {
   "cell_type": "code",
   "execution_count": 14,
   "metadata": {},
   "outputs": [],
   "source": [
    "outcome = DV[1]\n",
    "files = str_subset(placebo,paste0(model_prefix, outcome))"
   ]
  },
  {
   "cell_type": "code",
   "execution_count": 15,
   "metadata": {},
   "outputs": [
    {
     "data": {
      "text/html": [
       "<style>\n",
       ".list-inline {list-style: none; margin:0; padding: 0}\n",
       ".list-inline>li {display: inline-block}\n",
       ".list-inline>li:not(:last-child)::after {content: \"\\00b7\"; padding: 0 .5ex}\n",
       "</style>\n",
       "<ol class=list-inline><li>'DiD_state_geoSocial_ash_rnstu_0001.RDS'</li><li>'DiD_state_geoSocial_ash_rnstu_0002.RDS'</li><li>'DiD_state_geoSocial_ash_rnstu_0003.RDS'</li><li>'DiD_state_geoSocial_ash_rnstu_0004.RDS'</li><li>'DiD_state_geoSocial_ash_rnstu_0005.RDS'</li><li>'DiD_state_geoSocial_ash_rnstu_0006.RDS'</li></ol>\n"
      ],
      "text/latex": [
       "\\begin{enumerate*}\n",
       "\\item 'DiD\\_state\\_geoSocial\\_ash\\_rnstu\\_0001.RDS'\n",
       "\\item 'DiD\\_state\\_geoSocial\\_ash\\_rnstu\\_0002.RDS'\n",
       "\\item 'DiD\\_state\\_geoSocial\\_ash\\_rnstu\\_0003.RDS'\n",
       "\\item 'DiD\\_state\\_geoSocial\\_ash\\_rnstu\\_0004.RDS'\n",
       "\\item 'DiD\\_state\\_geoSocial\\_ash\\_rnstu\\_0005.RDS'\n",
       "\\item 'DiD\\_state\\_geoSocial\\_ash\\_rnstu\\_0006.RDS'\n",
       "\\end{enumerate*}\n"
      ],
      "text/markdown": [
       "1. 'DiD_state_geoSocial_ash_rnstu_0001.RDS'\n",
       "2. 'DiD_state_geoSocial_ash_rnstu_0002.RDS'\n",
       "3. 'DiD_state_geoSocial_ash_rnstu_0003.RDS'\n",
       "4. 'DiD_state_geoSocial_ash_rnstu_0004.RDS'\n",
       "5. 'DiD_state_geoSocial_ash_rnstu_0005.RDS'\n",
       "6. 'DiD_state_geoSocial_ash_rnstu_0006.RDS'\n",
       "\n",
       "\n"
      ],
      "text/plain": [
       "[1] \"DiD_state_geoSocial_ash_rnstu_0001.RDS\"\n",
       "[2] \"DiD_state_geoSocial_ash_rnstu_0002.RDS\"\n",
       "[3] \"DiD_state_geoSocial_ash_rnstu_0003.RDS\"\n",
       "[4] \"DiD_state_geoSocial_ash_rnstu_0004.RDS\"\n",
       "[5] \"DiD_state_geoSocial_ash_rnstu_0005.RDS\"\n",
       "[6] \"DiD_state_geoSocial_ash_rnstu_0006.RDS\""
      ]
     },
     "metadata": {},
     "output_type": "display_data"
    }
   ],
   "source": [
    "head(files)"
   ]
  },
  {
   "cell_type": "code",
   "execution_count": 142,
   "metadata": {},
   "outputs": [],
   "source": [
    "foreach (i = 1:1000, .combine='rbind') %dopar% {\n",
    "    \n",
    "    fm = readRDS(paste0(model_location,files[i]))\n",
    "    \n",
    "    df <- data.frame(f = c(unname(lfe::waldtest(fm, wald_formula)['F']),\n",
    "                           unname(lfe::waldtest(fm, wald_formula_gmr)['F'])),\n",
    "                     policy = c('Shelter-in-place', \n",
    "                                'Close gyms, movie theaters, and restaurants')\n",
    "                    )\n",
    "    \n",
    "} -> f1"
   ]
  },
  {
   "cell_type": "code",
   "execution_count": 229,
   "metadata": {},
   "outputs": [],
   "source": [
    "f1 %>% \n",
    "  ggplot(., aes(x = f)) + geom_histogram(binwidth = 1, center = 0.5) + \n",
    "    geom_vline(data=f_obs1_df, aes(xintercept = f_obs), color = \"red\") + facet_wrap(~str_wrap(policy, 20)) +\n",
    "    theme_bw() +\n",
    "    xlab(\"F-statistic\") + ylab('Count') + #ylim(c(0,1000)) + \n",
    "    #geom_line(aes(x=x, y=y), data=theoretical_f)+ xlim(0, f_obs1+1) + \n",
    "    theme(axis.text.x = element_text(hjust = 1, size=13),\n",
    "        axis.text.y = element_text(size=13),\n",
    "        axis.title = element_text(size=18),\n",
    "        strip.text.y = element_text(size=16),\n",
    "        panel.background = element_blank(),\n",
    "        axis.line = element_line(colour = \"black\"),\n",
    "        strip.text.x.top = element_text(size=16)) -> test1"
   ]
  },
  {
   "cell_type": "code",
   "execution_count": 230,
   "metadata": {},
   "outputs": [
    {
     "data": {
      "text/html": [
       "0"
      ],
      "text/latex": [
       "0"
      ],
      "text/markdown": [
       "0"
      ],
      "text/plain": [
       "[1] 0"
      ]
     },
     "metadata": {},
     "output_type": "display_data"
    },
    {
     "data": {
      "text/html": [
       "0.763"
      ],
      "text/latex": [
       "0.763"
      ],
      "text/markdown": [
       "0.763"
      ],
      "text/plain": [
       "[1] 0.763"
      ]
     },
     "metadata": {},
     "output_type": "display_data"
    },
    {
     "data": {
      "image/png": "[encoded data removed]",
      "text/plain": [
       "plot without title"
      ]
     },
     "metadata": {
      "image/png": {
       "height": 420,
       "width": 420
      }
     },
     "output_type": "display_data"
    }
   ],
   "source": [
    "mean(filter(f1, policy=='Shelter-in-place')$f > f_obs1)\n",
    "mean(filter(f1, policy=='Close gyms, movie theaters, and restaurants')$f > f_obs1_gmr)\n",
    "test1"
   ]
  },
  {
   "cell_type": "code",
   "execution_count": 231,
   "metadata": {},
   "outputs": [],
   "source": [
    "# Write plot to output\n",
    "ggsave(\n",
    "  paste0(\"../output/did_ri_rnstu.pdf\"),\n",
    "  plot = test1,\n",
    "  device = NULL,\n",
    "  path = NULL,\n",
    "  scale = 1.2,\n",
    "  width = 7,\n",
    "  height = 5,\n",
    "  units = c(\"in\"),\n",
    "  dpi = 200,\n",
    "  limitsize = FALSE,\n",
    "  useDingbats=FALSE\n",
    ")"
   ]
  },
  {
   "cell_type": "markdown",
   "metadata": {},
   "source": [
    "### ash_nhd"
   ]
  },
  {
   "cell_type": "code",
   "execution_count": 166,
   "metadata": {},
   "outputs": [],
   "source": [
    "outcome = DV[2]\n",
    "files = str_subset(placebo, paste0(model_prefix, outcome))"
   ]
  },
  {
   "cell_type": "code",
   "execution_count": 167,
   "metadata": {},
   "outputs": [
    {
     "data": {
      "text/html": [
       "<style>\n",
       ".list-inline {list-style: none; margin:0; padding: 0}\n",
       ".list-inline>li {display: inline-block}\n",
       ".list-inline>li:not(:last-child)::after {content: \"\\00b7\"; padding: 0 .5ex}\n",
       "</style>\n",
       "<ol class=list-inline><li>'DiD_state_geoSocial_ash_nhd_0001.RDS'</li><li>'DiD_state_geoSocial_ash_nhd_0002.RDS'</li><li>'DiD_state_geoSocial_ash_nhd_0003.RDS'</li><li>'DiD_state_geoSocial_ash_nhd_0004.RDS'</li><li>'DiD_state_geoSocial_ash_nhd_0005.RDS'</li><li>'DiD_state_geoSocial_ash_nhd_0006.RDS'</li></ol>\n"
      ],
      "text/latex": [
       "\\begin{enumerate*}\n",
       "\\item 'DiD\\_state\\_geoSocial\\_ash\\_nhd\\_0001.RDS'\n",
       "\\item 'DiD\\_state\\_geoSocial\\_ash\\_nhd\\_0002.RDS'\n",
       "\\item 'DiD\\_state\\_geoSocial\\_ash\\_nhd\\_0003.RDS'\n",
       "\\item 'DiD\\_state\\_geoSocial\\_ash\\_nhd\\_0004.RDS'\n",
       "\\item 'DiD\\_state\\_geoSocial\\_ash\\_nhd\\_0005.RDS'\n",
       "\\item 'DiD\\_state\\_geoSocial\\_ash\\_nhd\\_0006.RDS'\n",
       "\\end{enumerate*}\n"
      ],
      "text/markdown": [
       "1. 'DiD_state_geoSocial_ash_nhd_0001.RDS'\n",
       "2. 'DiD_state_geoSocial_ash_nhd_0002.RDS'\n",
       "3. 'DiD_state_geoSocial_ash_nhd_0003.RDS'\n",
       "4. 'DiD_state_geoSocial_ash_nhd_0004.RDS'\n",
       "5. 'DiD_state_geoSocial_ash_nhd_0005.RDS'\n",
       "6. 'DiD_state_geoSocial_ash_nhd_0006.RDS'\n",
       "\n",
       "\n"
      ],
      "text/plain": [
       "[1] \"DiD_state_geoSocial_ash_nhd_0001.RDS\"\n",
       "[2] \"DiD_state_geoSocial_ash_nhd_0002.RDS\"\n",
       "[3] \"DiD_state_geoSocial_ash_nhd_0003.RDS\"\n",
       "[4] \"DiD_state_geoSocial_ash_nhd_0004.RDS\"\n",
       "[5] \"DiD_state_geoSocial_ash_nhd_0005.RDS\"\n",
       "[6] \"DiD_state_geoSocial_ash_nhd_0006.RDS\""
      ]
     },
     "metadata": {},
     "output_type": "display_data"
    }
   ],
   "source": [
    "head(files)"
   ]
  },
  {
   "cell_type": "code",
   "execution_count": 172,
   "metadata": {},
   "outputs": [],
   "source": [
    "foreach (i = 1:1000, .combine='rbind') %dopar% {\n",
    "    \n",
    "    fm = readRDS(paste0(model_location,files[i]))\n",
    "    \n",
    "    df <- data.frame(f = c(unname(lfe::waldtest(fm, wald_formula)['F']),\n",
    "                           unname(lfe::waldtest(fm, wald_formula_gmr)['F'])),\n",
    "                     policy = c('Shelter-in-place', \n",
    "                                'Close gyms, movie theaters, and restaurants')\n",
    "                    )\n",
    "    \n",
    "} -> f2"
   ]
  },
  {
   "cell_type": "code",
   "execution_count": 232,
   "metadata": {},
   "outputs": [],
   "source": [
    "f2 %>% \n",
    "  ggplot(., aes(x = f)) + geom_histogram(binwidth = 1, center = 0.5) + \n",
    "    geom_vline(data=f_obs2_df, aes(xintercept = f_obs), color = \"red\") + facet_wrap(~str_wrap(policy, 20)) +\n",
    "    theme_bw() +\n",
    "    xlab(\"F-statistic\") + ylab('Count') + #ylim(c(0,1000)) + \n",
    "    #geom_line(aes(x=x, y=y), data=theoretical_f)+ xlim(0, f_obs2+1) + \n",
    "    theme(axis.text.x = element_text(hjust = 1, size=13),\n",
    "        axis.text.y = element_text(size=13),\n",
    "        axis.title = element_text(size=18),\n",
    "        strip.text.y = element_text(size=16),\n",
    "        panel.background = element_blank(),\n",
    "        axis.line = element_line(colour = \"black\"),\n",
    "        strip.text.x.top = element_text(size=16)) -> test2"
   ]
  },
  {
   "cell_type": "code",
   "execution_count": 233,
   "metadata": {},
   "outputs": [
    {
     "data": {
      "text/html": [
       "0"
      ],
      "text/latex": [
       "0"
      ],
      "text/markdown": [
       "0"
      ],
      "text/plain": [
       "[1] 0"
      ]
     },
     "metadata": {},
     "output_type": "display_data"
    },
    {
     "data": {
      "text/html": [
       "0.706"
      ],
      "text/latex": [
       "0.706"
      ],
      "text/markdown": [
       "0.706"
      ],
      "text/plain": [
       "[1] 0.706"
      ]
     },
     "metadata": {},
     "output_type": "display_data"
    },
    {
     "data": {
      "image/png": "[encoded data removed]",
      "text/plain": [
       "plot without title"
      ]
     },
     "metadata": {
      "image/png": {
       "height": 420,
       "width": 420
      }
     },
     "output_type": "display_data"
    }
   ],
   "source": [
    "mean(filter(f2, policy=='Shelter-in-place')$f > f_obs2)\n",
    "mean(filter(f2, policy=='Close gyms, movie theaters, and restaurants')$f > f_obs2_gmr)\n",
    "test2"
   ]
  },
  {
   "cell_type": "code",
   "execution_count": 234,
   "metadata": {},
   "outputs": [],
   "source": [
    "# Write plot to output\n",
    "ggsave(\n",
    "  paste0(\"../output/did_ri_nhd.pdf\"),\n",
    "  plot = test2,\n",
    "  device = NULL,\n",
    "  path = NULL,\n",
    "  scale = 1.2,\n",
    "  width = 7,\n",
    "  height = 5,\n",
    "  units = c(\"in\"),\n",
    "  dpi = 200,\n",
    "  limitsize = FALSE,\n",
    "  useDingbats=FALSE\n",
    ")"
   ]
  },
  {
   "cell_type": "markdown",
   "metadata": {},
   "source": [
    "### fb_btvrc"
   ]
  },
  {
   "cell_type": "code",
   "execution_count": 176,
   "metadata": {},
   "outputs": [],
   "source": [
    "outcome = DV[3]\n",
    "files = str_subset(placebo,paste0(model_prefix, outcome))"
   ]
  },
  {
   "cell_type": "code",
   "execution_count": 177,
   "metadata": {},
   "outputs": [
    {
     "data": {
      "text/html": [
       "<style>\n",
       ".list-inline {list-style: none; margin:0; padding: 0}\n",
       ".list-inline>li {display: inline-block}\n",
       ".list-inline>li:not(:last-child)::after {content: \"\\00b7\"; padding: 0 .5ex}\n",
       "</style>\n",
       "<ol class=list-inline><li>'DiD_state_geoSocial_fb_btvrc_0001.RDS'</li><li>'DiD_state_geoSocial_fb_btvrc_0002.RDS'</li><li>'DiD_state_geoSocial_fb_btvrc_0003.RDS'</li><li>'DiD_state_geoSocial_fb_btvrc_0004.RDS'</li><li>'DiD_state_geoSocial_fb_btvrc_0005.RDS'</li><li>'DiD_state_geoSocial_fb_btvrc_0006.RDS'</li></ol>\n"
      ],
      "text/latex": [
       "\\begin{enumerate*}\n",
       "\\item 'DiD\\_state\\_geoSocial\\_fb\\_btvrc\\_0001.RDS'\n",
       "\\item 'DiD\\_state\\_geoSocial\\_fb\\_btvrc\\_0002.RDS'\n",
       "\\item 'DiD\\_state\\_geoSocial\\_fb\\_btvrc\\_0003.RDS'\n",
       "\\item 'DiD\\_state\\_geoSocial\\_fb\\_btvrc\\_0004.RDS'\n",
       "\\item 'DiD\\_state\\_geoSocial\\_fb\\_btvrc\\_0005.RDS'\n",
       "\\item 'DiD\\_state\\_geoSocial\\_fb\\_btvrc\\_0006.RDS'\n",
       "\\end{enumerate*}\n"
      ],
      "text/markdown": [
       "1. 'DiD_state_geoSocial_fb_btvrc_0001.RDS'\n",
       "2. 'DiD_state_geoSocial_fb_btvrc_0002.RDS'\n",
       "3. 'DiD_state_geoSocial_fb_btvrc_0003.RDS'\n",
       "4. 'DiD_state_geoSocial_fb_btvrc_0004.RDS'\n",
       "5. 'DiD_state_geoSocial_fb_btvrc_0005.RDS'\n",
       "6. 'DiD_state_geoSocial_fb_btvrc_0006.RDS'\n",
       "\n",
       "\n"
      ],
      "text/plain": [
       "[1] \"DiD_state_geoSocial_fb_btvrc_0001.RDS\"\n",
       "[2] \"DiD_state_geoSocial_fb_btvrc_0002.RDS\"\n",
       "[3] \"DiD_state_geoSocial_fb_btvrc_0003.RDS\"\n",
       "[4] \"DiD_state_geoSocial_fb_btvrc_0004.RDS\"\n",
       "[5] \"DiD_state_geoSocial_fb_btvrc_0005.RDS\"\n",
       "[6] \"DiD_state_geoSocial_fb_btvrc_0006.RDS\""
      ]
     },
     "metadata": {},
     "output_type": "display_data"
    }
   ],
   "source": [
    "head(files)"
   ]
  },
  {
   "cell_type": "code",
   "execution_count": 178,
   "metadata": {},
   "outputs": [],
   "source": [
    "foreach (i = 1:1000, .combine='rbind') %dopar% {\n",
    "    \n",
    "    fm = readRDS(paste0(model_location,files[i]))\n",
    "    \n",
    "    df <- data.frame(f = c(unname(lfe::waldtest(fm, wald_formula)['F']),\n",
    "                           unname(lfe::waldtest(fm, wald_formula_gmr)['F'])),\n",
    "                     policy = c('Shelter-in-place', \n",
    "                                'Close gyms, movie theaters, and restaurants')\n",
    "                    )\n",
    "    \n",
    "} -> f3"
   ]
  },
  {
   "cell_type": "code",
   "execution_count": 235,
   "metadata": {},
   "outputs": [],
   "source": [
    "f3 %>% \n",
    "  ggplot(., aes(x = f)) + geom_histogram(binwidth = 1, center = 0.5) + \n",
    "    geom_vline(data=f_obs3_df, aes(xintercept = f_obs), color = \"red\") + facet_wrap(~str_wrap(policy, 20)) +\n",
    "    theme_bw() +\n",
    "    xlab(\"F-statistic\") + ylab('Count') + #ylim(c(0,1000)) + \n",
    "    #geom_line(aes(x=x, y=y), data=theoretical_f)+ xlim(0, f_obs3+1) + \n",
    "    theme(axis.text.x = element_text(hjust = 1, size=13),\n",
    "        axis.text.y = element_text(size=13),\n",
    "        axis.title = element_text(size=18),\n",
    "        strip.text.y = element_text(size=16),\n",
    "        panel.background = element_blank(),\n",
    "        axis.line = element_line(colour = \"black\"),\n",
    "        strip.text.x.top = element_text(size=16)\n",
    "       ) -> test3"
   ]
  },
  {
   "cell_type": "code",
   "execution_count": 236,
   "metadata": {},
   "outputs": [
    {
     "data": {
      "text/html": [
       "0"
      ],
      "text/latex": [
       "0"
      ],
      "text/markdown": [
       "0"
      ],
      "text/plain": [
       "[1] 0"
      ]
     },
     "metadata": {},
     "output_type": "display_data"
    },
    {
     "data": {
      "text/html": [
       "0"
      ],
      "text/latex": [
       "0"
      ],
      "text/markdown": [
       "0"
      ],
      "text/plain": [
       "[1] 0"
      ]
     },
     "metadata": {},
     "output_type": "display_data"
    },
    {
     "data": {
      "image/png": "[encoded data removed]",
      "text/plain": [
       "plot without title"
      ]
     },
     "metadata": {
      "image/png": {
       "height": 420,
       "width": 420
      }
     },
     "output_type": "display_data"
    }
   ],
   "source": [
    "mean(filter(f3, policy=='Shelter-in-place')$f > f_obs3)\n",
    "mean(filter(f3, policy=='Close gyms, movie theaters, and restaurants')$f > f_obs3_gmr)\n",
    "test3"
   ]
  },
  {
   "cell_type": "code",
   "execution_count": 237,
   "metadata": {},
   "outputs": [],
   "source": [
    "# Write plot to output\n",
    "ggsave(\n",
    "  paste0(\"../output/did_ri_btvrc.pdf\"),\n",
    "  plot = test3,\n",
    "  device = NULL,\n",
    "  path = NULL,\n",
    "  scale = 1.2,\n",
    "  width = 7,\n",
    "  height = 5,\n",
    "  units = c(\"in\"),\n",
    "  dpi = 200,\n",
    "  limitsize = FALSE,\n",
    "  useDingbats=FALSE\n",
    ")"
   ]
  },
  {
   "cell_type": "markdown",
   "metadata": {},
   "source": [
    "### log_mcbgv"
   ]
  },
  {
   "cell_type": "code",
   "execution_count": 185,
   "metadata": {},
   "outputs": [],
   "source": [
    "outcome = DV[4]\n",
    "files = str_subset(placebo,paste0(model_prefix, outcome))"
   ]
  },
  {
   "cell_type": "code",
   "execution_count": 186,
   "metadata": {},
   "outputs": [
    {
     "data": {
      "text/html": [
       "<style>\n",
       ".list-inline {list-style: none; margin:0; padding: 0}\n",
       ".list-inline>li {display: inline-block}\n",
       ".list-inline>li:not(:last-child)::after {content: \"\\00b7\"; padding: 0 .5ex}\n",
       "</style>\n",
       "<ol class=list-inline><li>'DiD_state_geoSocial_log_mcbgv_0001.RDS'</li><li>'DiD_state_geoSocial_log_mcbgv_0002.RDS'</li><li>'DiD_state_geoSocial_log_mcbgv_0003.RDS'</li><li>'DiD_state_geoSocial_log_mcbgv_0004.RDS'</li><li>'DiD_state_geoSocial_log_mcbgv_0005.RDS'</li><li>'DiD_state_geoSocial_log_mcbgv_0006.RDS'</li></ol>\n"
      ],
      "text/latex": [
       "\\begin{enumerate*}\n",
       "\\item 'DiD\\_state\\_geoSocial\\_log\\_mcbgv\\_0001.RDS'\n",
       "\\item 'DiD\\_state\\_geoSocial\\_log\\_mcbgv\\_0002.RDS'\n",
       "\\item 'DiD\\_state\\_geoSocial\\_log\\_mcbgv\\_0003.RDS'\n",
       "\\item 'DiD\\_state\\_geoSocial\\_log\\_mcbgv\\_0004.RDS'\n",
       "\\item 'DiD\\_state\\_geoSocial\\_log\\_mcbgv\\_0005.RDS'\n",
       "\\item 'DiD\\_state\\_geoSocial\\_log\\_mcbgv\\_0006.RDS'\n",
       "\\end{enumerate*}\n"
      ],
      "text/markdown": [
       "1. 'DiD_state_geoSocial_log_mcbgv_0001.RDS'\n",
       "2. 'DiD_state_geoSocial_log_mcbgv_0002.RDS'\n",
       "3. 'DiD_state_geoSocial_log_mcbgv_0003.RDS'\n",
       "4. 'DiD_state_geoSocial_log_mcbgv_0004.RDS'\n",
       "5. 'DiD_state_geoSocial_log_mcbgv_0005.RDS'\n",
       "6. 'DiD_state_geoSocial_log_mcbgv_0006.RDS'\n",
       "\n",
       "\n"
      ],
      "text/plain": [
       "[1] \"DiD_state_geoSocial_log_mcbgv_0001.RDS\"\n",
       "[2] \"DiD_state_geoSocial_log_mcbgv_0002.RDS\"\n",
       "[3] \"DiD_state_geoSocial_log_mcbgv_0003.RDS\"\n",
       "[4] \"DiD_state_geoSocial_log_mcbgv_0004.RDS\"\n",
       "[5] \"DiD_state_geoSocial_log_mcbgv_0005.RDS\"\n",
       "[6] \"DiD_state_geoSocial_log_mcbgv_0006.RDS\""
      ]
     },
     "metadata": {},
     "output_type": "display_data"
    }
   ],
   "source": [
    "head(files)"
   ]
  },
  {
   "cell_type": "code",
   "execution_count": 187,
   "metadata": {},
   "outputs": [],
   "source": [
    "foreach (i = 1:1000, .combine='rbind') %dopar% {\n",
    "    \n",
    "    fm = readRDS(paste0(model_location,files[i]))\n",
    "    \n",
    "    df <- data.frame(f = c(unname(lfe::waldtest(fm, wald_formula)['F']),\n",
    "                           unname(lfe::waldtest(fm, wald_formula_gmr)['F'])),\n",
    "                     policy = c('Shelter-in-place', \n",
    "                                'Close gyms, movie theaters, and restaurants')\n",
    "                    )\n",
    "    \n",
    "    \n",
    "} -> f4"
   ]
  },
  {
   "cell_type": "code",
   "execution_count": 243,
   "metadata": {},
   "outputs": [],
   "source": [
    "f4 %>% \n",
    "  ggplot(., aes(x = f)) + geom_histogram(binwidth = 1, center = 0.5) + \n",
    "    geom_vline(data=f_obs4_df, aes(xintercept = f_obs), color = \"red\") + facet_wrap(~str_wrap(policy, 20)) +\n",
    "    theme_bw() +\n",
    "    xlab(\"F-statistic\") + ylab('Count') + #ylim(c(0,1000)) + \n",
    "    #geom_line(aes(x=x, y=y), data=theoretical_f)+ xlim(0, f_obs4+1) + \n",
    "    theme(axis.text.x = element_text(hjust = 1, size=13),\n",
    "        axis.text.y = element_text(size=13),\n",
    "        axis.title = element_text(size=18),\n",
    "        strip.text.y = element_text(size=16),\n",
    "        panel.background = element_blank(),\n",
    "        axis.line = element_line(colour = \"black\"),\n",
    "        strip.text.x.top = element_text(size=16)) -> test4"
   ]
  },
  {
   "cell_type": "code",
   "execution_count": 244,
   "metadata": {},
   "outputs": [
    {
     "data": {
      "text/html": [
       "0"
      ],
      "text/latex": [
       "0"
      ],
      "text/markdown": [
       "0"
      ],
      "text/plain": [
       "[1] 0"
      ]
     },
     "metadata": {},
     "output_type": "display_data"
    },
    {
     "data": {
      "text/html": [
       "0.346"
      ],
      "text/latex": [
       "0.346"
      ],
      "text/markdown": [
       "0.346"
      ],
      "text/plain": [
       "[1] 0.346"
      ]
     },
     "metadata": {},
     "output_type": "display_data"
    },
    {
     "data": {
      "image/png": "[encoded data removed]",
      "text/plain": [
       "plot without title"
      ]
     },
     "metadata": {
      "image/png": {
       "height": 420,
       "width": 420
      }
     },
     "output_type": "display_data"
    }
   ],
   "source": [
    "mean(filter(f4, policy=='Shelter-in-place')$f > f_obs4)\n",
    "mean(filter(f4, policy=='Close gyms, movie theaters, and restaurants')$f > f_obs4_gmr)\n",
    "test4"
   ]
  },
  {
   "cell_type": "code",
   "execution_count": 245,
   "metadata": {},
   "outputs": [],
   "source": [
    "# Write plot to output\n",
    "ggsave(\n",
    "  paste0(\"../output/did_ri_mcbgv.pdf\"),\n",
    "  plot = test4,\n",
    "  device = NULL,\n",
    "  path = NULL,\n",
    "  scale = 1.2,\n",
    "  width = 7,\n",
    "  height = 5,\n",
    "  units = c(\"in\"),\n",
    "  dpi = 200,\n",
    "  limitsize = FALSE,\n",
    "  useDingbats=FALSE\n",
    ")"
   ]
  },
  {
   "cell_type": "markdown",
   "metadata": {},
   "source": [
    "doFRI <- function(outcome) {\n",
    "    \n",
    "    # compute the observed f stat\n",
    "    \n",
    "    formula <- paste0(outcome,\n",
    "                      '.r',\n",
    "                      '~ 0 + stay_home.r + alter_sh.r + geo_alter_sh.r + ban_gmr.r + alter_bgmr.r + geo_alter_bgmr.r | county_fips + ds | 0 | state_abbv')\n",
    "    wald_formula <- ~ alter_sh.r + geo_alter_sh.r\n",
    "    \n",
    "    \n",
    "    fm <- felm(\n",
    "        formula,\n",
    "        data = panel,\n",
    "        weights = panel$n\n",
    "    )\n",
    "    \n",
    "    f_obs = lfe::waldtest(fm, wald_formula)['F']\n",
    "    \n",
    "    \n",
    "    # compute f stat for all placebo draws\n",
    "    \n",
    "    placebo = list.files('/nfs/sloanlab004/projects/covid_mobility_proj/models/did_placebo/')\n",
    "    files = str_subset(placebo,paste0('DiD_geoSocial_',outcome))\n",
    "    \n",
    "    foreach (i = 1:1000, .combine=c) %dopar% {\n",
    "    \n",
    "    fm = readRDS(paste0('/nfs/sloanlab004/projects/covid_mobility_proj/models/did_placebo/',files[i]))\n",
    "    \n",
    "    unname(lfe::waldtest(fm, wald_formula)['F'])\n",
    "    \n",
    "    \n",
    "} -> f\n",
    "    \n",
    "    list(f_obs,f)\n",
    "}"
   ]
  }
 ],
 "metadata": {
  "kernelspec": {
   "display_name": "R 3.6.3",
   "language": "R",
   "name": "ir35"
  },
  "language_info": {
   "codemirror_mode": "r",
   "file_extension": ".r",
   "mimetype": "text/x-r-source",
   "name": "R",
   "pygments_lexer": "r",
   "version": "3.6.3"
  }
 },
 "nbformat": 4,
 "nbformat_minor": 2
}
