{
 "cells": [
  {
   "cell_type": "code",
   "execution_count": 1,
   "metadata": {
    "scrolled": true
   },
   "outputs": [
    {
     "name": "stderr",
     "output_type": "stream",
     "text": [
      "\n",
      "********************************************************\n",
      "\n",
      "Note: As of version 1.0.0, cowplot does not change the\n",
      "\n",
      "  default ggplot2 theme anymore. To recover the previous\n",
      "\n",
      "  behavior, execute:\n",
      "  theme_set(theme_cowplot())\n",
      "\n",
      "********************************************************\n",
      "\n",
      "\n",
      "\n",
      "Attaching package: ‘dplyr’\n",
      "\n",
      "\n",
      "The following objects are masked from ‘package:stats’:\n",
      "\n",
      "    filter, lag\n",
      "\n",
      "\n",
      "The following objects are masked from ‘package:base’:\n",
      "\n",
      "    intersect, setdiff, setequal, union\n",
      "\n",
      "\n",
      "Loading required package: Matrix\n",
      "\n",
      "\n",
      "Attaching package: ‘Matrix’\n",
      "\n",
      "\n",
      "The following objects are masked from ‘package:tidyr’:\n",
      "\n",
      "    expand, pack, unpack\n",
      "\n",
      "\n",
      "\n",
      "Attaching package: ‘scales’\n",
      "\n",
      "\n",
      "The following object is masked from ‘package:readr’:\n",
      "\n",
      "    col_factor\n",
      "\n",
      "\n",
      "\n",
      "Please cite as: \n",
      "\n",
      "\n",
      " Hlavac, Marek (2018). stargazer: Well-Formatted Regression and Summary Statistics Tables.\n",
      "\n",
      " R package version 5.2.2. https://CRAN.R-project.org/package=stargazer \n",
      "\n",
      "\n",
      "Loading required package: foreach\n",
      "\n",
      "Loading required package: iterators\n",
      "\n",
      "Loading required package: parallel\n",
      "\n"
     ]
    }
   ],
   "source": [
    "library(cowplot)\n",
    "library(dplyr)\n",
    "library(stringr)\n",
    "library(readr)\n",
    "library(tidyr)\n",
    "library(lfe)\n",
    "library(scales)\n",
    "library(repr)\n",
    "library(stargazer)\n",
    "library(doMC)\n",
    "registerDoMC(12)"
   ]
  },
  {
   "cell_type": "code",
   "execution_count": 42,
   "metadata": {},
   "outputs": [],
   "source": [
    "panel <- readRDS('/nfs/sloanlab004/projects/covid_mobility_proj/data/PROCESSED_DATA/data_v2.RData')\n",
    "load('/nfs/sloanlab004/projects/covid_mobility_proj/data/PROCESSED_DATA/conley_selector_matrix.Rdata')\n",
    "load('/nfs/sloanlab004/projects/covid_mobility_proj/data/PROCESSED_DATA/social_adj_matrix.RData')\n",
    "load('/nfs/sloanlab004/projects/covid_mobility_proj/data/PROCESSED_DATA/geo_adjacency_matrix.Rdata')\n",
    "source('../utils/residualizer+genAlters.R')\n",
    "source(\"../utils/labels_and_colors.r\")\n",
    "source('../utils/adjacency_and_cluster_robust_inference.R')\n",
    "source('../utils/geo_utils.r')"
   ]
  },
  {
   "cell_type": "code",
   "execution_count": 43,
   "metadata": {},
   "outputs": [
    {
     "data": {
      "text/html": [
       "<table>\n",
       "<caption>A tibble: 6 × 523</caption>\n",
       "<thead>\n",
       "\t<tr><th scope=col>ds</th><th scope=col>county_fips</th><th scope=col>sg_nhd</th><th scope=col>ash_nhd</th><th scope=col>state_abbv</th><th scope=col>stay_home</th><th scope=col>PRCP</th><th scope=col>TMAX</th><th scope=col>fb_btvrc</th><th scope=col>fb_rnstu</th><th scope=col>⋯</th><th scope=col>iv368</th><th scope=col>iv369</th><th scope=col>iv370</th><th scope=col>iv371</th><th scope=col>iv372</th><th scope=col>iv373</th><th scope=col>iv374</th><th scope=col>iv375</th><th scope=col>iv376</th><th scope=col>iv377</th></tr>\n",
       "\t<tr><th scope=col>&lt;date&gt;</th><th scope=col>&lt;dbl&gt;</th><th scope=col>&lt;dbl&gt;</th><th scope=col>&lt;dbl&gt;</th><th scope=col>&lt;chr&gt;</th><th scope=col>&lt;dbl&gt;</th><th scope=col>&lt;dbl&gt;</th><th scope=col>&lt;dbl&gt;</th><th scope=col>&lt;dbl&gt;</th><th scope=col>&lt;dbl&gt;</th><th scope=col>⋯</th><th scope=col>&lt;dbl&gt;</th><th scope=col>&lt;dbl&gt;</th><th scope=col>&lt;dbl&gt;</th><th scope=col>&lt;dbl&gt;</th><th scope=col>&lt;dbl&gt;</th><th scope=col>&lt;dbl&gt;</th><th scope=col>&lt;dbl&gt;</th><th scope=col>&lt;dbl&gt;</th><th scope=col>&lt;dbl&gt;</th><th scope=col>&lt;dbl&gt;</th></tr>\n",
       "</thead>\n",
       "<tbody>\n",
       "\t<tr><td>2020-03-01</td><td>1001</td><td>0.7637755</td><td>0.7041312</td><td>AL</td><td>0</td><td>0.00000000</td><td>20.26667</td><td>0.11245388</td><td>0.8800191</td><td>⋯</td><td>0.005357271</td><td>0.006663710</td><td>0.003511309</td><td>0.004241189</td><td>0.004072092</td><td>0.002667733</td><td>0.007564764</td><td> 0.0012265722</td><td> 1.372792e-03</td><td> 0.0022149108</td></tr>\n",
       "\t<tr><td>2020-03-01</td><td>1003</td><td>0.7363590</td><td>0.6821986</td><td>AL</td><td>0</td><td>0.01304348</td><td>20.57500</td><td>0.10008760</td><td>0.8748285</td><td>⋯</td><td>0.006137997</td><td>0.006348736</td><td>0.004151409</td><td>0.002834256</td><td>0.002809559</td><td>0.001936217</td><td>0.006396609</td><td> 0.0005820805</td><td> 8.375583e-04</td><td> 0.0012945267</td></tr>\n",
       "\t<tr><td>2020-03-01</td><td>1005</td><td>0.7258938</td><td>0.6737506</td><td>AL</td><td>0</td><td>0.00000000</td><td>17.20000</td><td>0.16629393</td><td>0.9076493</td><td>⋯</td><td>0.009109887</td><td>0.006426609</td><td>0.005651953</td><td>0.007230479</td><td>0.005569759</td><td>0.004599765</td><td>0.015908641</td><td> 0.0039989973</td><td> 4.200572e-03</td><td> 0.0081765988</td></tr>\n",
       "\t<tr><td>2020-03-01</td><td>1007</td><td>0.7555653</td><td>0.6975934</td><td>AL</td><td>0</td><td>0.00000000</td><td>20.60000</td><td>0.11779337</td><td>0.9035088</td><td>⋯</td><td>0.004777497</td><td>0.005818908</td><td>0.004105634</td><td>0.003127532</td><td>0.002442699</td><td>0.001934998</td><td>0.006958150</td><td>-0.0001016781</td><td> 5.247706e-05</td><td> 0.0001270144</td></tr>\n",
       "\t<tr><td>2020-03-01</td><td>1009</td><td>0.7719222</td><td>0.7105927</td><td>AL</td><td>0</td><td>0.00000000</td><td>18.90000</td><td>0.08822023</td><td>0.8926064</td><td>⋯</td><td>0.004944538</td><td>0.004278320</td><td>0.002546250</td><td>0.002235429</td><td>0.001753761</td><td>0.001393184</td><td>0.004096344</td><td>-0.0001758338</td><td>-2.536857e-05</td><td>-0.0002467153</td></tr>\n",
       "\t<tr><td>2020-03-01</td><td>1011</td><td>0.6967632</td><td>0.6500129</td><td>AL</td><td>0</td><td>0.00000000</td><td>19.13333</td><td>0.16487885</td><td>0.9151515</td><td>⋯</td><td>0.005793979</td><td>0.005664000</td><td>0.003137927</td><td>0.003334738</td><td>0.003452031</td><td>0.002706258</td><td>0.007705054</td><td> 0.0012745797</td><td> 1.470142e-03</td><td> 0.0029409972</td></tr>\n",
       "</tbody>\n",
       "</table>\n"
      ],
      "text/latex": [
       "A tibble: 6 × 523\n",
       "\\begin{tabular}{lllllllllllllllllllll}\n",
       " ds & county\\_fips & sg\\_nhd & ash\\_nhd & state\\_abbv & stay\\_home & PRCP & TMAX & fb\\_btvrc & fb\\_rnstu & ⋯ & iv368 & iv369 & iv370 & iv371 & iv372 & iv373 & iv374 & iv375 & iv376 & iv377\\\\\n",
       " <date> & <dbl> & <dbl> & <dbl> & <chr> & <dbl> & <dbl> & <dbl> & <dbl> & <dbl> & ⋯ & <dbl> & <dbl> & <dbl> & <dbl> & <dbl> & <dbl> & <dbl> & <dbl> & <dbl> & <dbl>\\\\\n",
       "\\hline\n",
       "\t 2020-03-01 & 1001 & 0.7637755 & 0.7041312 & AL & 0 & 0.00000000 & 20.26667 & 0.11245388 & 0.8800191 & ⋯ & 0.005357271 & 0.006663710 & 0.003511309 & 0.004241189 & 0.004072092 & 0.002667733 & 0.007564764 &  0.0012265722 &  1.372792e-03 &  0.0022149108\\\\\n",
       "\t 2020-03-01 & 1003 & 0.7363590 & 0.6821986 & AL & 0 & 0.01304348 & 20.57500 & 0.10008760 & 0.8748285 & ⋯ & 0.006137997 & 0.006348736 & 0.004151409 & 0.002834256 & 0.002809559 & 0.001936217 & 0.006396609 &  0.0005820805 &  8.375583e-04 &  0.0012945267\\\\\n",
       "\t 2020-03-01 & 1005 & 0.7258938 & 0.6737506 & AL & 0 & 0.00000000 & 17.20000 & 0.16629393 & 0.9076493 & ⋯ & 0.009109887 & 0.006426609 & 0.005651953 & 0.007230479 & 0.005569759 & 0.004599765 & 0.015908641 &  0.0039989973 &  4.200572e-03 &  0.0081765988\\\\\n",
       "\t 2020-03-01 & 1007 & 0.7555653 & 0.6975934 & AL & 0 & 0.00000000 & 20.60000 & 0.11779337 & 0.9035088 & ⋯ & 0.004777497 & 0.005818908 & 0.004105634 & 0.003127532 & 0.002442699 & 0.001934998 & 0.006958150 & -0.0001016781 &  5.247706e-05 &  0.0001270144\\\\\n",
       "\t 2020-03-01 & 1009 & 0.7719222 & 0.7105927 & AL & 0 & 0.00000000 & 18.90000 & 0.08822023 & 0.8926064 & ⋯ & 0.004944538 & 0.004278320 & 0.002546250 & 0.002235429 & 0.001753761 & 0.001393184 & 0.004096344 & -0.0001758338 & -2.536857e-05 & -0.0002467153\\\\\n",
       "\t 2020-03-01 & 1011 & 0.6967632 & 0.6500129 & AL & 0 & 0.00000000 & 19.13333 & 0.16487885 & 0.9151515 & ⋯ & 0.005793979 & 0.005664000 & 0.003137927 & 0.003334738 & 0.003452031 & 0.002706258 & 0.007705054 &  0.0012745797 &  1.470142e-03 &  0.0029409972\\\\\n",
       "\\end{tabular}\n"
      ],
      "text/markdown": [
       "\n",
       "A tibble: 6 × 523\n",
       "\n",
       "| ds &lt;date&gt; | county_fips &lt;dbl&gt; | sg_nhd &lt;dbl&gt; | ash_nhd &lt;dbl&gt; | state_abbv &lt;chr&gt; | stay_home &lt;dbl&gt; | PRCP &lt;dbl&gt; | TMAX &lt;dbl&gt; | fb_btvrc &lt;dbl&gt; | fb_rnstu &lt;dbl&gt; | ⋯ ⋯ | iv368 &lt;dbl&gt; | iv369 &lt;dbl&gt; | iv370 &lt;dbl&gt; | iv371 &lt;dbl&gt; | iv372 &lt;dbl&gt; | iv373 &lt;dbl&gt; | iv374 &lt;dbl&gt; | iv375 &lt;dbl&gt; | iv376 &lt;dbl&gt; | iv377 &lt;dbl&gt; |\n",
       "|---|---|---|---|---|---|---|---|---|---|---|---|---|---|---|---|---|---|---|---|---|\n",
       "| 2020-03-01 | 1001 | 0.7637755 | 0.7041312 | AL | 0 | 0.00000000 | 20.26667 | 0.11245388 | 0.8800191 | ⋯ | 0.005357271 | 0.006663710 | 0.003511309 | 0.004241189 | 0.004072092 | 0.002667733 | 0.007564764 |  0.0012265722 |  1.372792e-03 |  0.0022149108 |\n",
       "| 2020-03-01 | 1003 | 0.7363590 | 0.6821986 | AL | 0 | 0.01304348 | 20.57500 | 0.10008760 | 0.8748285 | ⋯ | 0.006137997 | 0.006348736 | 0.004151409 | 0.002834256 | 0.002809559 | 0.001936217 | 0.006396609 |  0.0005820805 |  8.375583e-04 |  0.0012945267 |\n",
       "| 2020-03-01 | 1005 | 0.7258938 | 0.6737506 | AL | 0 | 0.00000000 | 17.20000 | 0.16629393 | 0.9076493 | ⋯ | 0.009109887 | 0.006426609 | 0.005651953 | 0.007230479 | 0.005569759 | 0.004599765 | 0.015908641 |  0.0039989973 |  4.200572e-03 |  0.0081765988 |\n",
       "| 2020-03-01 | 1007 | 0.7555653 | 0.6975934 | AL | 0 | 0.00000000 | 20.60000 | 0.11779337 | 0.9035088 | ⋯ | 0.004777497 | 0.005818908 | 0.004105634 | 0.003127532 | 0.002442699 | 0.001934998 | 0.006958150 | -0.0001016781 |  5.247706e-05 |  0.0001270144 |\n",
       "| 2020-03-01 | 1009 | 0.7719222 | 0.7105927 | AL | 0 | 0.00000000 | 18.90000 | 0.08822023 | 0.8926064 | ⋯ | 0.004944538 | 0.004278320 | 0.002546250 | 0.002235429 | 0.001753761 | 0.001393184 | 0.004096344 | -0.0001758338 | -2.536857e-05 | -0.0002467153 |\n",
       "| 2020-03-01 | 1011 | 0.6967632 | 0.6500129 | AL | 0 | 0.00000000 | 19.13333 | 0.16487885 | 0.9151515 | ⋯ | 0.005793979 | 0.005664000 | 0.003137927 | 0.003334738 | 0.003452031 | 0.002706258 | 0.007705054 |  0.0012745797 |  1.470142e-03 |  0.0029409972 |\n",
       "\n"
      ],
      "text/plain": [
       "  ds         county_fips sg_nhd    ash_nhd   state_abbv stay_home PRCP      \n",
       "1 2020-03-01 1001        0.7637755 0.7041312 AL         0         0.00000000\n",
       "2 2020-03-01 1003        0.7363590 0.6821986 AL         0         0.01304348\n",
       "3 2020-03-01 1005        0.7258938 0.6737506 AL         0         0.00000000\n",
       "4 2020-03-01 1007        0.7555653 0.6975934 AL         0         0.00000000\n",
       "5 2020-03-01 1009        0.7719222 0.7105927 AL         0         0.00000000\n",
       "6 2020-03-01 1011        0.6967632 0.6500129 AL         0         0.00000000\n",
       "  TMAX     fb_btvrc   fb_rnstu  ⋯ iv368       iv369       iv370      \n",
       "1 20.26667 0.11245388 0.8800191 ⋯ 0.005357271 0.006663710 0.003511309\n",
       "2 20.57500 0.10008760 0.8748285 ⋯ 0.006137997 0.006348736 0.004151409\n",
       "3 17.20000 0.16629393 0.9076493 ⋯ 0.009109887 0.006426609 0.005651953\n",
       "4 20.60000 0.11779337 0.9035088 ⋯ 0.004777497 0.005818908 0.004105634\n",
       "5 18.90000 0.08822023 0.8926064 ⋯ 0.004944538 0.004278320 0.002546250\n",
       "6 19.13333 0.16487885 0.9151515 ⋯ 0.005793979 0.005664000 0.003137927\n",
       "  iv371       iv372       iv373       iv374       iv375         iv376        \n",
       "1 0.004241189 0.004072092 0.002667733 0.007564764  0.0012265722  1.372792e-03\n",
       "2 0.002834256 0.002809559 0.001936217 0.006396609  0.0005820805  8.375583e-04\n",
       "3 0.007230479 0.005569759 0.004599765 0.015908641  0.0039989973  4.200572e-03\n",
       "4 0.003127532 0.002442699 0.001934998 0.006958150 -0.0001016781  5.247706e-05\n",
       "5 0.002235429 0.001753761 0.001393184 0.004096344 -0.0001758338 -2.536857e-05\n",
       "6 0.003334738 0.003452031 0.002706258 0.007705054  0.0012745797  1.470142e-03\n",
       "  iv377        \n",
       "1  0.0022149108\n",
       "2  0.0012945267\n",
       "3  0.0081765988\n",
       "4  0.0001270144\n",
       "5 -0.0002467153\n",
       "6  0.0029409972"
      ]
     },
     "metadata": {},
     "output_type": "display_data"
    }
   ],
   "source": [
    "head(panel)"
   ]
  },
  {
   "cell_type": "code",
   "execution_count": 78,
   "metadata": {},
   "outputs": [],
   "source": [
    "DV = c('ash_rnstu', 'ash_nhd', 'fb_btvrc', 'log_mcbgv')"
   ]
  },
  {
   "cell_type": "markdown",
   "metadata": {},
   "source": [
    "### compute f stat on the observed model"
   ]
  },
  {
   "cell_type": "code",
   "execution_count": 90,
   "metadata": {},
   "outputs": [],
   "source": [
    "formula_1 <- ash_rnstu.r ~ 0 + stay_home.r + alter_sh.r + geo_alter_sh.r + ban_gmr.r + alter_bgmr.r + geo_alter_bgmr.r | county_fips + ds | 0 | state_abbv\n",
    "wald_formula <- ~ alter_sh.r + geo_alter_sh.r"
   ]
  },
  {
   "cell_type": "code",
   "execution_count": 91,
   "metadata": {},
   "outputs": [
    {
     "data": {
      "text/html": [
       "<strong>F:</strong> 14.5855111036092"
      ],
      "text/latex": [
       "\\textbf{F:} 14.5855111036092"
      ],
      "text/markdown": [
       "**F:** 14.5855111036092"
      ],
      "text/plain": [
       "       F \n",
       "14.58551 "
      ]
     },
     "metadata": {},
     "output_type": "display_data"
    }
   ],
   "source": [
    "fm <- felm(\n",
    "        formula_1,\n",
    "        data = panel,\n",
    "        weights = panel$n\n",
    "    )\n",
    "f_obs1 = lfe::waldtest(fm, wald_formula)['F']\n",
    "f_obs1"
   ]
  },
  {
   "cell_type": "code",
   "execution_count": 92,
   "metadata": {},
   "outputs": [],
   "source": [
    "formula_2 <- ash_nhd.r ~ 0 + stay_home.r + alter_sh.r + geo_alter_sh.r + ban_gmr.r + alter_bgmr.r + geo_alter_bgmr.r | county_fips + ds | 0 | state_abbv"
   ]
  },
  {
   "cell_type": "code",
   "execution_count": 93,
   "metadata": {},
   "outputs": [
    {
     "data": {
      "text/html": [
       "<strong>F:</strong> 15.3794795547111"
      ],
      "text/latex": [
       "\\textbf{F:} 15.3794795547111"
      ],
      "text/markdown": [
       "**F:** 15.3794795547111"
      ],
      "text/plain": [
       "       F \n",
       "15.37948 "
      ]
     },
     "metadata": {},
     "output_type": "display_data"
    }
   ],
   "source": [
    "fm <- felm(\n",
    "        formula_2,\n",
    "        data = panel,\n",
    "        weights = panel$n\n",
    "    )\n",
    "f_obs2 = lfe::waldtest(fm, wald_formula)['F']\n",
    "f_obs2"
   ]
  },
  {
   "cell_type": "code",
   "execution_count": 83,
   "metadata": {},
   "outputs": [],
   "source": [
    "formula_3 <- fb_btvrc.r ~ 0 + stay_home.r + alter_sh.r + geo_alter_sh.r + ban_gmr.r + alter_bgmr.r + geo_alter_bgmr.r | county_fips + ds | 0 | state_abbv"
   ]
  },
  {
   "cell_type": "code",
   "execution_count": 94,
   "metadata": {},
   "outputs": [
    {
     "data": {
      "text/html": [
       "<strong>F:</strong> 41.0121518223042"
      ],
      "text/latex": [
       "\\textbf{F:} 41.0121518223042"
      ],
      "text/markdown": [
       "**F:** 41.0121518223042"
      ],
      "text/plain": [
       "       F \n",
       "41.01215 "
      ]
     },
     "metadata": {},
     "output_type": "display_data"
    }
   ],
   "source": [
    "fm <- felm(\n",
    "        formula_3,\n",
    "        data = panel,\n",
    "        weights = panel$n\n",
    "    )\n",
    "f_obs3 = lfe::waldtest(fm, wald_formula)['F']\n",
    "f_obs3"
   ]
  },
  {
   "cell_type": "code",
   "execution_count": 85,
   "metadata": {},
   "outputs": [],
   "source": [
    "formula_4 <- log_mcbgv.r ~ 0 + stay_home.r + alter_sh.r + geo_alter_sh.r + ban_gmr.r + alter_bgmr.r + geo_alter_bgmr.r | county_fips + ds | 0 | state_abbv"
   ]
  },
  {
   "cell_type": "code",
   "execution_count": 95,
   "metadata": {
    "scrolled": true
   },
   "outputs": [
    {
     "data": {
      "text/html": [
       "<strong>F:</strong> 14.4029456917901"
      ],
      "text/latex": [
       "\\textbf{F:} 14.4029456917901"
      ],
      "text/markdown": [
       "**F:** 14.4029456917901"
      ],
      "text/plain": [
       "       F \n",
       "14.40295 "
      ]
     },
     "metadata": {},
     "output_type": "display_data"
    }
   ],
   "source": [
    "fm <- felm(\n",
    "        formula_4,\n",
    "        data = panel,\n",
    "        weights = panel$n\n",
    "    )\n",
    "f_obs4 = lfe::waldtest(fm, wald_formula)['F']\n",
    "f_obs4"
   ]
  },
  {
   "cell_type": "markdown",
   "metadata": {},
   "source": [
    "### compute f stat for placebo draws and show p-value and distribution "
   ]
  },
  {
   "cell_type": "markdown",
   "metadata": {},
   "source": [
    "### ash_rnstu"
   ]
  },
  {
   "cell_type": "code",
   "execution_count": 60,
   "metadata": {},
   "outputs": [],
   "source": [
    "placebo = list.files('/nfs/sloanlab004/projects/covid_mobility_proj/models/did_placebo/')\n",
    "outcome = 'ash_rnstu'\n",
    "files = str_subset(placebo,paste0('DiD_geoSocial_',outcome))"
   ]
  },
  {
   "cell_type": "code",
   "execution_count": 108,
   "metadata": {},
   "outputs": [
    {
     "data": {
      "text/html": [
       "<style>\n",
       ".list-inline {list-style: none; margin:0; padding: 0}\n",
       ".list-inline>li {display: inline-block}\n",
       ".list-inline>li:not(:last-child)::after {content: \"\\00b7\"; padding: 0 .5ex}\n",
       "</style>\n",
       "<ol class=list-inline><li>'DiD_geoSocial_log_mcbgv_0001.RDS'</li><li>'DiD_geoSocial_log_mcbgv_0002.RDS'</li><li>'DiD_geoSocial_log_mcbgv_0003.RDS'</li><li>'DiD_geoSocial_log_mcbgv_0004.RDS'</li><li>'DiD_geoSocial_log_mcbgv_0005.RDS'</li><li>'DiD_geoSocial_log_mcbgv_0006.RDS'</li></ol>\n"
      ],
      "text/latex": [
       "\\begin{enumerate*}\n",
       "\\item 'DiD\\_geoSocial\\_log\\_mcbgv\\_0001.RDS'\n",
       "\\item 'DiD\\_geoSocial\\_log\\_mcbgv\\_0002.RDS'\n",
       "\\item 'DiD\\_geoSocial\\_log\\_mcbgv\\_0003.RDS'\n",
       "\\item 'DiD\\_geoSocial\\_log\\_mcbgv\\_0004.RDS'\n",
       "\\item 'DiD\\_geoSocial\\_log\\_mcbgv\\_0005.RDS'\n",
       "\\item 'DiD\\_geoSocial\\_log\\_mcbgv\\_0006.RDS'\n",
       "\\end{enumerate*}\n"
      ],
      "text/markdown": [
       "1. 'DiD_geoSocial_log_mcbgv_0001.RDS'\n",
       "2. 'DiD_geoSocial_log_mcbgv_0002.RDS'\n",
       "3. 'DiD_geoSocial_log_mcbgv_0003.RDS'\n",
       "4. 'DiD_geoSocial_log_mcbgv_0004.RDS'\n",
       "5. 'DiD_geoSocial_log_mcbgv_0005.RDS'\n",
       "6. 'DiD_geoSocial_log_mcbgv_0006.RDS'\n",
       "\n",
       "\n"
      ],
      "text/plain": [
       "[1] \"DiD_geoSocial_log_mcbgv_0001.RDS\" \"DiD_geoSocial_log_mcbgv_0002.RDS\"\n",
       "[3] \"DiD_geoSocial_log_mcbgv_0003.RDS\" \"DiD_geoSocial_log_mcbgv_0004.RDS\"\n",
       "[5] \"DiD_geoSocial_log_mcbgv_0005.RDS\" \"DiD_geoSocial_log_mcbgv_0006.RDS\""
      ]
     },
     "metadata": {},
     "output_type": "display_data"
    }
   ],
   "source": [
    "head(files)"
   ]
  },
  {
   "cell_type": "code",
   "execution_count": 33,
   "metadata": {},
   "outputs": [],
   "source": [
    "foreach (i = 1:1000, .combine=c) %dopar% {\n",
    "    \n",
    "    fm = readRDS(paste0('/nfs/sloanlab004/projects/covid_mobility_proj/models/did_placebo/',files[i]))\n",
    "    \n",
    "    wald_formula <- ~ alter_sh.r + geo_alter_sh.r\n",
    "    \n",
    "    unname(lfe::waldtest(fm, wald_formula_1)['F'])\n",
    "    \n",
    "    \n",
    "} -> f1"
   ]
  },
  {
   "cell_type": "code",
   "execution_count": 37,
   "metadata": {},
   "outputs": [],
   "source": [
    "ggplot(\n",
    "    aes(x = null_test_statistic),\n",
    "    data = data.frame(null_test_statistic = f1)\n",
    ") + geom_histogram() + \n",
    "    geom_vline(xintercept = f1_obs, color = \"red\") +\n",
    "    theme_bw() +\n",
    "    xlab(\"F-statistic\") -> test1"
   ]
  },
  {
   "cell_type": "code",
   "execution_count": 39,
   "metadata": {},
   "outputs": [
    {
     "data": {
      "text/html": [
       "0.448"
      ],
      "text/latex": [
       "0.448"
      ],
      "text/markdown": [
       "0.448"
      ],
      "text/plain": [
       "[1] 0.448"
      ]
     },
     "metadata": {},
     "output_type": "display_data"
    },
    {
     "name": "stderr",
     "output_type": "stream",
     "text": [
      "`stat_bin()` using `bins = 30`. Pick better value with `binwidth`.\n",
      "\n"
     ]
    },
    {
     "data": {
      "image/png": "[encoded data removed]",
      "text/plain": [
       "plot without title"
      ]
     },
     "metadata": {
      "image/png": {
       "height": 420,
       "width": 420
      }
     },
     "output_type": "display_data"
    }
   ],
   "source": [
    "mean(f1 > f_obs1)\n",
    "test1"
   ]
  },
  {
   "cell_type": "markdown",
   "metadata": {},
   "source": [
    "### ash_nhd"
   ]
  },
  {
   "cell_type": "code",
   "execution_count": 63,
   "metadata": {},
   "outputs": [],
   "source": [
    "placebo = list.files('/nfs/sloanlab004/projects/covid_mobility_proj/models/did_placebo/')\n",
    "outcome = 'ash_nhd'\n",
    "files = str_subset(placebo,paste0('DiD_geoSocial_',outcome))"
   ]
  },
  {
   "cell_type": "code",
   "execution_count": 109,
   "metadata": {},
   "outputs": [
    {
     "data": {
      "text/html": [
       "<style>\n",
       ".list-inline {list-style: none; margin:0; padding: 0}\n",
       ".list-inline>li {display: inline-block}\n",
       ".list-inline>li:not(:last-child)::after {content: \"\\00b7\"; padding: 0 .5ex}\n",
       "</style>\n",
       "<ol class=list-inline><li>'DiD_geoSocial_log_mcbgv_0001.RDS'</li><li>'DiD_geoSocial_log_mcbgv_0002.RDS'</li><li>'DiD_geoSocial_log_mcbgv_0003.RDS'</li><li>'DiD_geoSocial_log_mcbgv_0004.RDS'</li><li>'DiD_geoSocial_log_mcbgv_0005.RDS'</li><li>'DiD_geoSocial_log_mcbgv_0006.RDS'</li></ol>\n"
      ],
      "text/latex": [
       "\\begin{enumerate*}\n",
       "\\item 'DiD\\_geoSocial\\_log\\_mcbgv\\_0001.RDS'\n",
       "\\item 'DiD\\_geoSocial\\_log\\_mcbgv\\_0002.RDS'\n",
       "\\item 'DiD\\_geoSocial\\_log\\_mcbgv\\_0003.RDS'\n",
       "\\item 'DiD\\_geoSocial\\_log\\_mcbgv\\_0004.RDS'\n",
       "\\item 'DiD\\_geoSocial\\_log\\_mcbgv\\_0005.RDS'\n",
       "\\item 'DiD\\_geoSocial\\_log\\_mcbgv\\_0006.RDS'\n",
       "\\end{enumerate*}\n"
      ],
      "text/markdown": [
       "1. 'DiD_geoSocial_log_mcbgv_0001.RDS'\n",
       "2. 'DiD_geoSocial_log_mcbgv_0002.RDS'\n",
       "3. 'DiD_geoSocial_log_mcbgv_0003.RDS'\n",
       "4. 'DiD_geoSocial_log_mcbgv_0004.RDS'\n",
       "5. 'DiD_geoSocial_log_mcbgv_0005.RDS'\n",
       "6. 'DiD_geoSocial_log_mcbgv_0006.RDS'\n",
       "\n",
       "\n"
      ],
      "text/plain": [
       "[1] \"DiD_geoSocial_log_mcbgv_0001.RDS\" \"DiD_geoSocial_log_mcbgv_0002.RDS\"\n",
       "[3] \"DiD_geoSocial_log_mcbgv_0003.RDS\" \"DiD_geoSocial_log_mcbgv_0004.RDS\"\n",
       "[5] \"DiD_geoSocial_log_mcbgv_0005.RDS\" \"DiD_geoSocial_log_mcbgv_0006.RDS\""
      ]
     },
     "metadata": {},
     "output_type": "display_data"
    }
   ],
   "source": [
    "head(files)"
   ]
  },
  {
   "cell_type": "code",
   "execution_count": 65,
   "metadata": {},
   "outputs": [],
   "source": [
    "foreach (i = 1:1000, .combine=c) %dopar% {\n",
    "    \n",
    "    fm = readRDS(paste0('/nfs/sloanlab004/projects/covid_mobility_proj/models/did_placebo/',files[i]))\n",
    "    \n",
    "    wald_formula <- ~ alter_sh.r + geo_alter_sh.r\n",
    "    \n",
    "    unname(lfe::waldtest(fm, wald_formula)['F'])\n",
    "    \n",
    "    \n",
    "} -> f2"
   ]
  },
  {
   "cell_type": "code",
   "execution_count": 69,
   "metadata": {},
   "outputs": [],
   "source": [
    "ggplot(\n",
    "    aes(x = null_test_statistic),\n",
    "    data = data.frame(null_test_statistic = f2)\n",
    ") + geom_histogram() + \n",
    "    geom_vline(xintercept = f_obs2, color = \"red\") +\n",
    "    theme_bw() +\n",
    "    xlab(\"F-statistic\") -> test2"
   ]
  },
  {
   "cell_type": "code",
   "execution_count": 70,
   "metadata": {},
   "outputs": [
    {
     "data": {
      "text/html": [
       "0.041"
      ],
      "text/latex": [
       "0.041"
      ],
      "text/markdown": [
       "0.041"
      ],
      "text/plain": [
       "[1] 0.041"
      ]
     },
     "metadata": {},
     "output_type": "display_data"
    },
    {
     "name": "stderr",
     "output_type": "stream",
     "text": [
      "`stat_bin()` using `bins = 30`. Pick better value with `binwidth`.\n",
      "\n"
     ]
    },
    {
     "data": {
      "image/png": "[encoded data removed]",
      "text/plain": [
       "plot without title"
      ]
     },
     "metadata": {
      "image/png": {
       "height": 420,
       "width": 420
      }
     },
     "output_type": "display_data"
    }
   ],
   "source": [
    "mean(f2 > f_obs2)\n",
    "test2"
   ]
  },
  {
   "cell_type": "markdown",
   "metadata": {},
   "source": [
    "### fb_btvrc"
   ]
  },
  {
   "cell_type": "code",
   "execution_count": 88,
   "metadata": {},
   "outputs": [],
   "source": [
    "placebo = list.files('/nfs/sloanlab004/projects/covid_mobility_proj/models/did_placebo/')\n",
    "outcome = 'fb_btvrc'\n",
    "files = str_subset(placebo,paste0('DiD_geoSocial_',outcome))"
   ]
  },
  {
   "cell_type": "code",
   "execution_count": 110,
   "metadata": {},
   "outputs": [
    {
     "data": {
      "text/html": [
       "<style>\n",
       ".list-inline {list-style: none; margin:0; padding: 0}\n",
       ".list-inline>li {display: inline-block}\n",
       ".list-inline>li:not(:last-child)::after {content: \"\\00b7\"; padding: 0 .5ex}\n",
       "</style>\n",
       "<ol class=list-inline><li>'DiD_geoSocial_log_mcbgv_0001.RDS'</li><li>'DiD_geoSocial_log_mcbgv_0002.RDS'</li><li>'DiD_geoSocial_log_mcbgv_0003.RDS'</li><li>'DiD_geoSocial_log_mcbgv_0004.RDS'</li><li>'DiD_geoSocial_log_mcbgv_0005.RDS'</li><li>'DiD_geoSocial_log_mcbgv_0006.RDS'</li></ol>\n"
      ],
      "text/latex": [
       "\\begin{enumerate*}\n",
       "\\item 'DiD\\_geoSocial\\_log\\_mcbgv\\_0001.RDS'\n",
       "\\item 'DiD\\_geoSocial\\_log\\_mcbgv\\_0002.RDS'\n",
       "\\item 'DiD\\_geoSocial\\_log\\_mcbgv\\_0003.RDS'\n",
       "\\item 'DiD\\_geoSocial\\_log\\_mcbgv\\_0004.RDS'\n",
       "\\item 'DiD\\_geoSocial\\_log\\_mcbgv\\_0005.RDS'\n",
       "\\item 'DiD\\_geoSocial\\_log\\_mcbgv\\_0006.RDS'\n",
       "\\end{enumerate*}\n"
      ],
      "text/markdown": [
       "1. 'DiD_geoSocial_log_mcbgv_0001.RDS'\n",
       "2. 'DiD_geoSocial_log_mcbgv_0002.RDS'\n",
       "3. 'DiD_geoSocial_log_mcbgv_0003.RDS'\n",
       "4. 'DiD_geoSocial_log_mcbgv_0004.RDS'\n",
       "5. 'DiD_geoSocial_log_mcbgv_0005.RDS'\n",
       "6. 'DiD_geoSocial_log_mcbgv_0006.RDS'\n",
       "\n",
       "\n"
      ],
      "text/plain": [
       "[1] \"DiD_geoSocial_log_mcbgv_0001.RDS\" \"DiD_geoSocial_log_mcbgv_0002.RDS\"\n",
       "[3] \"DiD_geoSocial_log_mcbgv_0003.RDS\" \"DiD_geoSocial_log_mcbgv_0004.RDS\"\n",
       "[5] \"DiD_geoSocial_log_mcbgv_0005.RDS\" \"DiD_geoSocial_log_mcbgv_0006.RDS\""
      ]
     },
     "metadata": {},
     "output_type": "display_data"
    }
   ],
   "source": [
    "head(files)"
   ]
  },
  {
   "cell_type": "code",
   "execution_count": 96,
   "metadata": {},
   "outputs": [],
   "source": [
    "foreach (i = 1:1000, .combine=c) %dopar% {\n",
    "    \n",
    "    fm = readRDS(paste0('/nfs/sloanlab004/projects/covid_mobility_proj/models/did_placebo/',files[i]))\n",
    "    \n",
    "    #formula_1 <- ash_rnstu.r ~ 0 + stay_home.r + alter_sh.r + geo_alter_sh.r + ban_gmr.r + alter_bgmr.r + geo_alter_bgmr.r | county_fips + ds | 0 | state_abbv\n",
    "    wald_formula <- ~ alter_sh.r + geo_alter_sh.r\n",
    "    \n",
    "    unname(lfe::waldtest(fm, wald_formula)['F'])\n",
    "    \n",
    "    \n",
    "} -> f3"
   ]
  },
  {
   "cell_type": "code",
   "execution_count": 97,
   "metadata": {},
   "outputs": [],
   "source": [
    "ggplot(\n",
    "    aes(x = null_test_statistic),\n",
    "    data = data.frame(null_test_statistic = f3)\n",
    ") + geom_histogram() + \n",
    "    geom_vline(xintercept = f_obs3, color = \"red\") +\n",
    "    theme_bw() +\n",
    "    xlab(\"F-statistic\") -> test3"
   ]
  },
  {
   "cell_type": "code",
   "execution_count": 98,
   "metadata": {},
   "outputs": [
    {
     "data": {
      "text/html": [
       "0.002"
      ],
      "text/latex": [
       "0.002"
      ],
      "text/markdown": [
       "0.002"
      ],
      "text/plain": [
       "[1] 0.002"
      ]
     },
     "metadata": {},
     "output_type": "display_data"
    },
    {
     "name": "stderr",
     "output_type": "stream",
     "text": [
      "`stat_bin()` using `bins = 30`. Pick better value with `binwidth`.\n",
      "\n"
     ]
    },
    {
     "data": {
      "image/png": "[encoded data removed]",
      "text/plain": [
       "plot without title"
      ]
     },
     "metadata": {
      "image/png": {
       "height": 420,
       "width": 420
      }
     },
     "output_type": "display_data"
    }
   ],
   "source": [
    "mean(f3 > f_obs3)\n",
    "test3"
   ]
  },
  {
   "cell_type": "markdown",
   "metadata": {},
   "source": [
    "### log_mcbgv"
   ]
  },
  {
   "cell_type": "code",
   "execution_count": 103,
   "metadata": {},
   "outputs": [],
   "source": [
    "placebo = list.files('/nfs/sloanlab004/projects/covid_mobility_proj/models/did_placebo/')\n",
    "outcome = 'log_mcbgv'\n",
    "files = str_subset(placebo,paste0('DiD_geoSocial_',outcome))"
   ]
  },
  {
   "cell_type": "code",
   "execution_count": 111,
   "metadata": {},
   "outputs": [
    {
     "data": {
      "text/html": [
       "<style>\n",
       ".list-inline {list-style: none; margin:0; padding: 0}\n",
       ".list-inline>li {display: inline-block}\n",
       ".list-inline>li:not(:last-child)::after {content: \"\\00b7\"; padding: 0 .5ex}\n",
       "</style>\n",
       "<ol class=list-inline><li>'DiD_geoSocial_log_mcbgv_0001.RDS'</li><li>'DiD_geoSocial_log_mcbgv_0002.RDS'</li><li>'DiD_geoSocial_log_mcbgv_0003.RDS'</li><li>'DiD_geoSocial_log_mcbgv_0004.RDS'</li><li>'DiD_geoSocial_log_mcbgv_0005.RDS'</li><li>'DiD_geoSocial_log_mcbgv_0006.RDS'</li></ol>\n"
      ],
      "text/latex": [
       "\\begin{enumerate*}\n",
       "\\item 'DiD\\_geoSocial\\_log\\_mcbgv\\_0001.RDS'\n",
       "\\item 'DiD\\_geoSocial\\_log\\_mcbgv\\_0002.RDS'\n",
       "\\item 'DiD\\_geoSocial\\_log\\_mcbgv\\_0003.RDS'\n",
       "\\item 'DiD\\_geoSocial\\_log\\_mcbgv\\_0004.RDS'\n",
       "\\item 'DiD\\_geoSocial\\_log\\_mcbgv\\_0005.RDS'\n",
       "\\item 'DiD\\_geoSocial\\_log\\_mcbgv\\_0006.RDS'\n",
       "\\end{enumerate*}\n"
      ],
      "text/markdown": [
       "1. 'DiD_geoSocial_log_mcbgv_0001.RDS'\n",
       "2. 'DiD_geoSocial_log_mcbgv_0002.RDS'\n",
       "3. 'DiD_geoSocial_log_mcbgv_0003.RDS'\n",
       "4. 'DiD_geoSocial_log_mcbgv_0004.RDS'\n",
       "5. 'DiD_geoSocial_log_mcbgv_0005.RDS'\n",
       "6. 'DiD_geoSocial_log_mcbgv_0006.RDS'\n",
       "\n",
       "\n"
      ],
      "text/plain": [
       "[1] \"DiD_geoSocial_log_mcbgv_0001.RDS\" \"DiD_geoSocial_log_mcbgv_0002.RDS\"\n",
       "[3] \"DiD_geoSocial_log_mcbgv_0003.RDS\" \"DiD_geoSocial_log_mcbgv_0004.RDS\"\n",
       "[5] \"DiD_geoSocial_log_mcbgv_0005.RDS\" \"DiD_geoSocial_log_mcbgv_0006.RDS\""
      ]
     },
     "metadata": {},
     "output_type": "display_data"
    }
   ],
   "source": [
    "head(files)"
   ]
  },
  {
   "cell_type": "code",
   "execution_count": 105,
   "metadata": {},
   "outputs": [],
   "source": [
    "foreach (i = 1:1000, .combine=c) %dopar% {\n",
    "    \n",
    "    fm = readRDS(paste0('/nfs/sloanlab004/projects/covid_mobility_proj/models/did_placebo/',files[i]))\n",
    "    \n",
    "    #formula_1 <- ash_rnstu.r ~ 0 + stay_home.r + alter_sh.r + geo_alter_sh.r + ban_gmr.r + alter_bgmr.r + geo_alter_bgmr.r | county_fips + ds | 0 | state_abbv\n",
    "    wald_formula <- ~ alter_sh.r + geo_alter_sh.r\n",
    "    \n",
    "    unname(lfe::waldtest(fm, wald_formula)['F'])\n",
    "    \n",
    "    \n",
    "} -> f4"
   ]
  },
  {
   "cell_type": "code",
   "execution_count": 106,
   "metadata": {},
   "outputs": [],
   "source": [
    "ggplot(\n",
    "    aes(x = null_test_statistic),\n",
    "    data = data.frame(null_test_statistic = f4)\n",
    ") + geom_histogram() + \n",
    "    geom_vline(xintercept = f_obs4, color = \"red\") +\n",
    "    theme_bw() +\n",
    "    xlab(\"F-statistic\") -> test4"
   ]
  },
  {
   "cell_type": "code",
   "execution_count": 107,
   "metadata": {},
   "outputs": [
    {
     "data": {
      "text/html": [
       "0.038"
      ],
      "text/latex": [
       "0.038"
      ],
      "text/markdown": [
       "0.038"
      ],
      "text/plain": [
       "[1] 0.038"
      ]
     },
     "metadata": {},
     "output_type": "display_data"
    },
    {
     "name": "stderr",
     "output_type": "stream",
     "text": [
      "`stat_bin()` using `bins = 30`. Pick better value with `binwidth`.\n",
      "\n"
     ]
    },
    {
     "data": {
      "image/png": "[encoded data removed]",
      "text/plain": [
       "plot without title"
      ]
     },
     "metadata": {
      "image/png": {
       "height": 420,
       "width": 420
      }
     },
     "output_type": "display_data"
    }
   ],
   "source": [
    "mean(f4 > f_obs4)\n",
    "test4"
   ]
  },
  {
   "cell_type": "code",
   "execution_count": 71,
   "metadata": {
    "scrolled": true
   },
   "outputs": [
    {
     "data": {
      "text/html": [
       "<style>\n",
       ".list-inline {list-style: none; margin:0; padding: 0}\n",
       ".list-inline>li {display: inline-block}\n",
       ".list-inline>li:not(:last-child)::after {content: \"\\00b7\"; padding: 0 .5ex}\n",
       "</style>\n",
       "<ol class=list-inline><li>'ash_rnstu'</li><li>'ash_nhd'</li><li>'fb_btvrc'</li><li>'log_mcbgv'</li></ol>\n"
      ],
      "text/latex": [
       "\\begin{enumerate*}\n",
       "\\item 'ash\\_rnstu'\n",
       "\\item 'ash\\_nhd'\n",
       "\\item 'fb\\_btvrc'\n",
       "\\item 'log\\_mcbgv'\n",
       "\\end{enumerate*}\n"
      ],
      "text/markdown": [
       "1. 'ash_rnstu'\n",
       "2. 'ash_nhd'\n",
       "3. 'fb_btvrc'\n",
       "4. 'log_mcbgv'\n",
       "\n",
       "\n"
      ],
      "text/plain": [
       "[1] \"ash_rnstu\" \"ash_nhd\"   \"fb_btvrc\"  \"log_mcbgv\""
      ]
     },
     "metadata": {},
     "output_type": "display_data"
    }
   ],
   "source": [
    "DV"
   ]
  },
  {
   "cell_type": "markdown",
   "metadata": {},
   "source": [
    "doFRI <- function(outcome) {\n",
    "    \n",
    "    # compute the observed f stat\n",
    "    \n",
    "    formula <- paste0(outcome,\n",
    "                      '.r',\n",
    "                      '~ 0 + stay_home.r + alter_sh.r + geo_alter_sh.r + ban_gmr.r + alter_bgmr.r + geo_alter_bgmr.r | county_fips + ds | 0 | state_abbv')\n",
    "    wald_formula <- ~ alter_sh.r + geo_alter_sh.r\n",
    "    \n",
    "    \n",
    "    fm <- felm(\n",
    "        formula,\n",
    "        data = panel,\n",
    "        weights = panel$n\n",
    "    )\n",
    "    \n",
    "    f_obs = lfe::waldtest(fm, wald_formula)['F']\n",
    "    \n",
    "    \n",
    "    # compute f stat for all placebo draws\n",
    "    \n",
    "    placebo = list.files('/nfs/sloanlab004/projects/covid_mobility_proj/models/did_placebo/')\n",
    "    files = str_subset(placebo,paste0('DiD_geoSocial_',outcome))\n",
    "    \n",
    "    foreach (i = 1:1000, .combine=c) %dopar% {\n",
    "    \n",
    "    fm = readRDS(paste0('/nfs/sloanlab004/projects/covid_mobility_proj/models/did_placebo/',files[i]))\n",
    "    \n",
    "    unname(lfe::waldtest(fm, wald_formula)['F'])\n",
    "    \n",
    "    \n",
    "} -> f\n",
    "    \n",
    "    list(f_obs,f)\n",
    "}"
   ]
  }
 ],
 "metadata": {
  "kernelspec": {
   "display_name": "R 3.6",
   "language": "R",
   "name": "ir36"
  },
  "language_info": {
   "codemirror_mode": "r",
   "file_extension": ".r",
   "mimetype": "text/x-r-source",
   "name": "R",
   "pygments_lexer": "r",
   "version": "3.6.3"
  }
 },
 "nbformat": 4,
 "nbformat_minor": 2
}
