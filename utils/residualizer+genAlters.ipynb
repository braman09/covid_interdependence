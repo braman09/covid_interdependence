{
 "cells": [
  {
   "cell_type": "code",
   "execution_count": 6,
   "metadata": {},
   "outputs": [],
   "source": [
    "library(dplyr)\n",
    "library(stringr)\n",
    "library(readr)\n",
    "library(tidyr)\n",
    "library(lfe)\n",
    "library(glmnet)\n",
    "library(xgboost)\n",
    "load('/nfs/sloanlab004/projects/covid_mobility_proj/data/intermediate_objects/residualizer_df.RData')\n",
    "load('/nfs/sloanlab004/projects/covid_mobility_proj/data/intermediate_objects/folds.RData')\n",
    "load('/nfs/sloanlab004/projects/covid_mobility_proj/data/PROCESSED_DATA/sciWM.RData')\n",
    "load('/nfs/sloanlab004/projects/covid_mobility_proj/data/PROCESSED_DATA/geoWM.RData')"
   ]
  },
  {
   "cell_type": "code",
   "execution_count": 7,
   "metadata": {},
   "outputs": [],
   "source": [
    "panel_residualizer <- function(Y) {\n",
    "    residualizer_df %>%\n",
    "    mutate(Y = Y,\n",
    "           Y.r = felm(Y ~ 0 | county_fips + ds, .)$resid) -> temp_df\n",
    "    \n",
    "    dm    <- xgb.DMatrix(data = model.matrix(~ 0 + PRCP.fe.r + TMAX.fe.r, temp_df), label = temp_df$Y.r)\n",
    "    param <- list(max_depth=2, eta=.5, silent=1, objective='reg:linear')\n",
    "    fit   <- xgb.cv(params = param, \n",
    "                    data = dm, \n",
    "                    folds = folds,\n",
    "                    nrounds = 100, \n",
    "                    early_stopping_rounds = 3, \n",
    "                    weight = temp_df$n)\n",
    "    best_n <- fit$best_iteration\n",
    "    for (i in 1:3) {\n",
    "        tr  <- temp_df %>% filter(grp != i)\n",
    "        trm <- xgb.DMatrix(data = model.matrix(~ 0 + PRCP.fe.r + TMAX.fe.r, tr), label = tr$Y.r)\n",
    "        fit <- xgb.train(params = param, \n",
    "                         data = trm, \n",
    "                         nrounds = best_n, \n",
    "                         weight = tr$n)\n",
    "        te  <- temp_df %>% filter(grp == i)\n",
    "        tem <- xgb.DMatrix(data = model.matrix(~ 0 + PRCP.fe.r + TMAX.fe.r, te), label = te$Y.r)\n",
    "        te %>%\n",
    "            select(county_fips, ds) %>%\n",
    "            mutate(pred = predict(fit, newdata = tem)) -> pred_df\n",
    "        assign(str_c('temp',i), pred_df)\n",
    "    }\n",
    "    out <- bind_rows(temp1, temp2, temp3) %>%\n",
    "        arrange(ds, county_fips) %>%\n",
    "        mutate(resid = temp_df$Y.r - pred)\n",
    "    return(out$resid)\n",
    "}"
   ]
  },
  {
   "cell_type": "code",
   "execution_count": 8,
   "metadata": {},
   "outputs": [],
   "source": [
    "# function that constructs alter covariate vectors\n",
    "weightedAlters <- function(df, wm, ...) {\n",
    "    df %>% \n",
    "        select(ds, county_fips, ...) %>%\n",
    "        spread(key = county_fips, value = ...) %>%\n",
    "        ungroup() %>%\n",
    "        select(-ds) %>%\n",
    "        as.matrix() -> txn_data\n",
    "    \n",
    "    df %>%\n",
    "        ungroup() %>%\n",
    "        select(ds) %>%\n",
    "        distinct() %>%\n",
    "        arrange(ds) -> dates\n",
    "    \n",
    "    outMatrix <- tcrossprod(txn_data, wm)\n",
    "    colnames(outMatrix) <- colnames(txn_data)\n",
    "    \n",
    "    data.frame(dates, outMatrix) %>%\n",
    "        gather(key = 'county_fips', value = 'value', -ds) %>%\n",
    "        mutate(county_fips = as.integer(str_sub(county_fips, 2, -1))) %>% \n",
    "        arrange(ds, county_fips) %>%\n",
    "        select(-ds, -county_fips) -> out_df\n",
    "    return(out_df$value)\n",
    "}"
   ]
  },
  {
   "cell_type": "code",
   "execution_count": null,
   "metadata": {},
   "outputs": [],
   "source": []
  }
 ],
 "metadata": {
  "kernelspec": {
   "display_name": "R 3.6",
   "language": "R",
   "name": "ir36"
  },
  "language_info": {
   "codemirror_mode": "r",
   "file_extension": ".r",
   "mimetype": "text/x-r-source",
   "name": "R",
   "pygments_lexer": "r",
   "version": "3.6.3"
  }
 },
 "nbformat": 4,
 "nbformat_minor": 2
}
